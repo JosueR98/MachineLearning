{
 "cells": [
  {
   "cell_type": "code",
   "execution_count": 2,
   "metadata": {},
   "outputs": [
    {
     "name": "stdout",
     "output_type": "stream",
     "text": [
      "Defaulting to user installation because normal site-packages is not writeable\n",
      "Collecting torchvision\n",
      "  Downloading torchvision-0.15.1-cp39-cp39-win_amd64.whl (1.2 MB)\n",
      "     ---------------------------------------- 1.2/1.2 MB 2.2 MB/s eta 0:00:00\n",
      "Requirement already satisfied: pillow!=8.3.*,>=5.3.0 in c:\\programdata\\anaconda3\\lib\\site-packages (from torchvision) (9.2.0)\n",
      "Requirement already satisfied: torch==2.0.0 in c:\\users\\saul1\\appdata\\roaming\\python\\python39\\site-packages (from torchvision) (2.0.0)\n",
      "Requirement already satisfied: requests in c:\\programdata\\anaconda3\\lib\\site-packages (from torchvision) (2.28.1)\n",
      "Requirement already satisfied: numpy in c:\\programdata\\anaconda3\\lib\\site-packages (from torchvision) (1.21.5)\n",
      "Requirement already satisfied: filelock in c:\\programdata\\anaconda3\\lib\\site-packages (from torch==2.0.0->torchvision) (3.6.0)\n",
      "Requirement already satisfied: sympy in c:\\programdata\\anaconda3\\lib\\site-packages (from torch==2.0.0->torchvision) (1.10.1)\n",
      "Requirement already satisfied: typing-extensions in c:\\programdata\\anaconda3\\lib\\site-packages (from torch==2.0.0->torchvision) (4.3.0)\n",
      "Requirement already satisfied: networkx in c:\\programdata\\anaconda3\\lib\\site-packages (from torch==2.0.0->torchvision) (2.8.4)\n",
      "Requirement already satisfied: jinja2 in c:\\programdata\\anaconda3\\lib\\site-packages (from torch==2.0.0->torchvision) (2.11.3)\n",
      "Requirement already satisfied: urllib3<1.27,>=1.21.1 in c:\\programdata\\anaconda3\\lib\\site-packages (from requests->torchvision) (1.26.11)\n",
      "Requirement already satisfied: certifi>=2017.4.17 in c:\\programdata\\anaconda3\\lib\\site-packages (from requests->torchvision) (2022.9.14)\n",
      "Requirement already satisfied: idna<4,>=2.5 in c:\\programdata\\anaconda3\\lib\\site-packages (from requests->torchvision) (3.3)\n",
      "Requirement already satisfied: charset-normalizer<3,>=2 in c:\\programdata\\anaconda3\\lib\\site-packages (from requests->torchvision) (2.0.4)\n",
      "Requirement already satisfied: MarkupSafe>=0.23 in c:\\programdata\\anaconda3\\lib\\site-packages (from jinja2->torch==2.0.0->torchvision) (2.0.1)\n",
      "Requirement already satisfied: mpmath>=0.19 in c:\\programdata\\anaconda3\\lib\\site-packages (from sympy->torch==2.0.0->torchvision) (1.2.1)\n",
      "Installing collected packages: torchvision\n",
      "Successfully installed torchvision-0.15.1\n"
     ]
    }
   ],
   "source": [
    "!pip install torchvision"
   ]
  },
  {
   "cell_type": "code",
   "execution_count": 3,
   "metadata": {
    "id": "qDVvweY0UIm0"
   },
   "outputs": [],
   "source": [
    "from __future__ import print_function\n",
    "import argparse\n",
    "import torch\n",
    "import torch.nn as nn\n",
    "import torch.nn.functional as F\n",
    "import torch.optim as optim\n",
    "import numpy as np;\n",
    "import pandas as pandas;\n",
    "from scipy import ndimage\n",
    "from torchvision import datasets, transforms\n",
    "from torch.distributions import normal\n",
    "from torch.distributions import multivariate_normal\n",
    "import matplotlib.pyplot as plt\n",
    "\n",
    "device = \"cpu\""
   ]
  },
  {
   "cell_type": "markdown",
   "metadata": {
    "id": "RDHYTE1qUKJ6"
   },
   "source": [
    "## Creation of artificial data\n",
    "\n",
    "Data are created artificially with a mixed Gaussian distribution of two clusters, with specific means and standard deviations"
   ]
  },
  {
   "cell_type": "code",
   "execution_count": 4,
   "metadata": {
    "id": "iZUnRQCtUi6l"
   },
   "outputs": [],
   "source": [
    "\n",
    "def createData(numberSamplesPerClass = 2, mean1 = [6, 6], mean2 = [14, 14], stds1 = [3, 3], stds2 = [2, 1]):\n",
    "    \"\"\"\n",
    "    Creates the data to be used for training, using a GMM distribution\n",
    "    @param numberSamplesPerClass, the number of samples per class\n",
    "    @param mean1, means for samples from the class 1\n",
    "    @param mean2, means for samples from the class 2\n",
    "    @param stds1, standard deviation for samples, class 1\n",
    "    @param stds2, standard deviation for samples, class 2\n",
    "    \"\"\"\n",
    "    means = torch.zeros(2, device = device)\n",
    "\n",
    "    # Ones to concatenate for bias\n",
    "    ones = torch.ones(numberSamplesPerClass, 1, device = device)\n",
    "    means[0] = mean1[0]\n",
    "    means[1] = mean1[1]\n",
    "    # Covariance matrix creation with identity\n",
    "    covarianceMatrix = torch.eye(2, device = device )\n",
    "    covarianceMatrix[0, 0] = stds1[0]\n",
    "    covarianceMatrix[1, 1] = stds1[1]\n",
    "    samplesClass1 = createDataOneClass(means, covarianceMatrix, numberSamplesPerClass)\n",
    "    means[0] = mean2[0]\n",
    "    means[1] = mean2[1]\n",
    "    covarianceMatrix[0, 0] = stds2[0]\n",
    "    covarianceMatrix[1, 1] = stds2[1]\n",
    "    samplesClass2 = createDataOneClass(means, covarianceMatrix, numberSamplesPerClass)\n",
    "    # Concatenates the ones for the bias\n",
    "    samplesClass1Bias = torch.cat((ones, samplesClass1), 1)\n",
    "    samplesClass2Bias = torch.cat((ones, samplesClass2), 1)\n",
    "    samplesAll = torch.cat((samplesClass1, samplesClass2), 0)\n",
    "    \n",
    "    plt.scatter(samplesClass1[:, 0].cpu().detach().numpy(), samplesClass1[:, 1].cpu().detach().numpy(), marker = \"x\")  \n",
    "    plt.scatter(samplesClass2[:, 0].cpu().detach().numpy(), samplesClass2[:, 1].cpu().detach().numpy())  \n",
    "    \n",
    "    #Create samples with bias\n",
    "    samplesAllBias = torch.cat((samplesClass1Bias, samplesClass2Bias), 0)\n",
    "    \n",
    "    #Create targets\n",
    "    targetsClass1 = torch.ones(numberSamplesPerClass, 1, device = device )\n",
    "    targetsClass2 = -1 * torch.ones(numberSamplesPerClass, 1, device = device )\n",
    "    targetsAll = torch.cat((targetsClass1, targetsClass2), 0)\n",
    "    \n",
    "    return (targetsAll, samplesAllBias)\n",
    "\n",
    "\n",
    "'''\n",
    "Creates data with gaussian distribution\n",
    "'''\n",
    "def createDataOneClass(means, covarianceMatrix, numberSamples):\n",
    "    # Inits the bi gaussian data generator\n",
    "    multiGaussGenerator = multivariate_normal.MultivariateNormal(means, covarianceMatrix)\n",
    "    # Takes the samples\n",
    "    samples = multiGaussGenerator.sample(torch.Size([numberSamples]))\n",
    "    samples = torch.tensor(samples,  device = device )\n",
    "    \n",
    "    return samples"
   ]
  },
  {
   "cell_type": "markdown",
   "metadata": {
    "id": "W9Su7DIj4ulk"
   },
   "source": [
    "## Least squares implementation"
   ]
  },
  {
   "cell_type": "code",
   "execution_count": 5,
   "metadata": {
    "id": "ogDwb74F4ull"
   },
   "outputs": [],
   "source": [
    "def estimate_optimum_LS(t, M):\n",
    "    \"\"\"\n",
    "    Estimate the optimum W with NO FORS\n",
    "    param M: NumSamples x 1 matrix with target values (1 or -1)\n",
    "    param t: NumSamples x NumDimensions \n",
    "    return w: array with optimum weights\n",
    "    \"\"\"\n",
    "    M_pinv = torch.tensor(np.linalg.pinv(M.numpy()), device = device )\n",
    "    w_opt = M_pinv.mm(t)\n",
    "    return w_opt         \n",
    "\n",
    "\n",
    "def forward(M, w):\n",
    "    \"\"\"\n",
    "    Get model output, with NO FORS\n",
    "    param M: dataset\n",
    "    return t_estimated, with 1 or -1\n",
    "    \"\"\"\n",
    "    y = M.mm(w)        \n",
    "    y[y > 0] = 1\n",
    "    y[y <= 0 ] = -1\n",
    "    t_estimated = y\n",
    "    return t_estimated\n",
    "\n",
    "def evaluate_error(t, t_estimated):\n",
    "    \"\"\"\n",
    "    Evaluate model error using the euclidian distance\n",
    "    param t, real targets\n",
    "    param t_estimated, estimated targets by the model\n",
    "    \"\"\"\n",
    "    error = torch.norm(t - t_estimated, 1) / t.shape[0]\n",
    "\n",
    "    return error"
   ]
  },
  {
   "cell_type": "markdown",
   "metadata": {
    "id": "trqQMVu34ulm"
   },
   "source": [
    "## Test the original least squares model"
   ]
  },
  {
   "cell_type": "code",
   "execution_count": null,
   "metadata": {
    "colab": {
     "base_uri": "https://localhost:8080/",
     "height": 678
    },
    "id": "VHQyGpb-4ulm",
    "outputId": "6eab3037-5afe-4c6d-d5e5-5b3347a560fc"
   },
   "outputs": [
    {
     "name": "stderr",
     "output_type": "stream",
     "text": [
      "/usr/local/lib/python3.7/dist-packages/ipykernel_launcher.py:54: UserWarning: To copy construct from a tensor, it is recommended to use sourceTensor.clone().detach() or sourceTensor.clone().detach().requires_grad_(True), rather than torch.tensor(sourceTensor).\n"
     ]
    },
    {
     "ename": "TypeError",
     "evalue": "ignored",
     "output_type": "error",
     "traceback": [
      "\u001b[0;31m---------------------------------------------------------------------------\u001b[0m",
      "\u001b[0;31mTypeError\u001b[0m                                 Traceback (most recent call last)",
      "\u001b[0;32m<ipython-input-9-133e7cc0dff0>\u001b[0m in \u001b[0;36m<module>\u001b[0;34m()\u001b[0m\n\u001b[1;32m     33\u001b[0m     \u001b[0mprint\u001b[0m\u001b[0;34m(\u001b[0m\u001b[0;34m\"Test error: \"\u001b[0m\u001b[0;34m,\u001b[0m \u001b[0merror\u001b[0m\u001b[0;34m)\u001b[0m\u001b[0;34m\u001b[0m\u001b[0;34m\u001b[0m\u001b[0m\n\u001b[1;32m     34\u001b[0m \u001b[0;34m\u001b[0m\u001b[0m\n\u001b[0;32m---> 35\u001b[0;31m \u001b[0mmain\u001b[0m\u001b[0;34m(\u001b[0m\u001b[0;34m)\u001b[0m\u001b[0;34m\u001b[0m\u001b[0;34m\u001b[0m\u001b[0m\n\u001b[0m\u001b[1;32m     36\u001b[0m \u001b[0;34m\u001b[0m\u001b[0m\n",
      "\u001b[0;32m<ipython-input-9-133e7cc0dff0>\u001b[0m in \u001b[0;36mmain\u001b[0;34m()\u001b[0m\n\u001b[1;32m     17\u001b[0m     \u001b[0;34m(\u001b[0m\u001b[0mt\u001b[0m\u001b[0;34m,\u001b[0m \u001b[0mM\u001b[0m\u001b[0;34m)\u001b[0m \u001b[0;34m=\u001b[0m \u001b[0mcreateData\u001b[0m\u001b[0;34m(\u001b[0m\u001b[0mnumberSamplesPerClass\u001b[0m \u001b[0;34m=\u001b[0m \u001b[0;36m20\u001b[0m\u001b[0;34m)\u001b[0m\u001b[0;34m\u001b[0m\u001b[0;34m\u001b[0m\u001b[0m\n\u001b[1;32m     18\u001b[0m     \u001b[0;31m#estimate optimum model weights\u001b[0m\u001b[0;34m\u001b[0m\u001b[0;34m\u001b[0m\u001b[0;34m\u001b[0m\u001b[0m\n\u001b[0;32m---> 19\u001b[0;31m     \u001b[0mw_opt\u001b[0m \u001b[0;34m=\u001b[0m \u001b[0mestimate_optimum_LS\u001b[0m\u001b[0;34m(\u001b[0m\u001b[0mt\u001b[0m\u001b[0;34m,\u001b[0m \u001b[0mM\u001b[0m\u001b[0;34m)\u001b[0m\u001b[0;34m\u001b[0m\u001b[0;34m\u001b[0m\u001b[0m\n\u001b[0m\u001b[1;32m     20\u001b[0m     \u001b[0mprint\u001b[0m\u001b[0;34m(\u001b[0m\u001b[0;34m\"Pesos optimos \\n \"\u001b[0m\u001b[0;34m,\u001b[0m \u001b[0mw_opt\u001b[0m\u001b[0;34m)\u001b[0m\u001b[0;34m\u001b[0m\u001b[0;34m\u001b[0m\u001b[0m\n\u001b[1;32m     21\u001b[0m     \u001b[0;31m#estimate targets for the training dataset\u001b[0m\u001b[0;34m\u001b[0m\u001b[0;34m\u001b[0m\u001b[0;34m\u001b[0m\u001b[0m\n",
      "\u001b[0;32m<ipython-input-3-b97f52df6a4e>\u001b[0m in \u001b[0;36mestimate_optimum_LS\u001b[0;34m(t, M)\u001b[0m\n\u001b[1;32m      6\u001b[0m     \u001b[0;32mreturn\u001b[0m \u001b[0mw\u001b[0m\u001b[0;34m:\u001b[0m \u001b[0marray\u001b[0m \u001b[0;32mwith\u001b[0m \u001b[0moptimum\u001b[0m \u001b[0mweights\u001b[0m\u001b[0;34m\u001b[0m\u001b[0;34m\u001b[0m\u001b[0m\n\u001b[1;32m      7\u001b[0m     \"\"\"\n\u001b[0;32m----> 8\u001b[0;31m     \u001b[0mM_pinv\u001b[0m \u001b[0;34m=\u001b[0m \u001b[0mtorch\u001b[0m\u001b[0;34m.\u001b[0m\u001b[0mtensor\u001b[0m\u001b[0;34m(\u001b[0m\u001b[0mnp\u001b[0m\u001b[0;34m.\u001b[0m\u001b[0mlinalg\u001b[0m\u001b[0;34m.\u001b[0m\u001b[0mpinv\u001b[0m\u001b[0;34m(\u001b[0m\u001b[0mM\u001b[0m\u001b[0;34m.\u001b[0m\u001b[0mnumpy\u001b[0m\u001b[0;34m(\u001b[0m\u001b[0;34m)\u001b[0m\u001b[0;34m)\u001b[0m\u001b[0;34m,\u001b[0m \u001b[0mdevice\u001b[0m \u001b[0;34m=\u001b[0m \u001b[0mdevice\u001b[0m \u001b[0;34m)\u001b[0m\u001b[0;34m\u001b[0m\u001b[0;34m\u001b[0m\u001b[0m\n\u001b[0m\u001b[1;32m      9\u001b[0m     \u001b[0mw_opt\u001b[0m \u001b[0;34m=\u001b[0m \u001b[0mM_pinv\u001b[0m\u001b[0;34m.\u001b[0m\u001b[0mmm\u001b[0m\u001b[0;34m(\u001b[0m\u001b[0mt\u001b[0m\u001b[0;34m)\u001b[0m\u001b[0;34m\u001b[0m\u001b[0;34m\u001b[0m\u001b[0m\n\u001b[1;32m     10\u001b[0m     \u001b[0;32mreturn\u001b[0m \u001b[0mw_opt\u001b[0m\u001b[0;34m\u001b[0m\u001b[0;34m\u001b[0m\u001b[0m\n",
      "\u001b[0;31mTypeError\u001b[0m: can't convert cuda:0 device type tensor to numpy. Use Tensor.cpu() to copy the tensor to host memory first."
     ]
    },
    {
     "data": {
      "image/png": "[encoded data removed]",
      "text/plain": [
       "<Figure size 432x288 with 1 Axes>"
      ]
     },
     "metadata": {
      "needs_background": "light"
     },
     "output_type": "display_data"
    }
   ],
   "source": [
    "def plot_line(wOpt):\n",
    "  wOpt = wOpt.cpu().detach()\n",
    "  b = (-1*wOpt[0] / wOpt[2]).numpy()[0]\n",
    "  m = (-1*wOpt[1] / wOpt[2]).numpy()[0]\n",
    "  x = np.arange(0., 15., 0.01)\n",
    "  y = m * x + b\n",
    "  plt.plot(x, y)\n",
    "  plt.show()\n",
    "  \n",
    "  \n",
    "  \n",
    "\n",
    "\"\"\"\n",
    "Main function\n",
    "\"\"\"\n",
    "def main():\n",
    "    (t, M) = createData(numberSamplesPerClass = 20)\n",
    "    #estimate optimum model weights\n",
    "    w_opt = estimate_optimum_LS(t, M)\n",
    "    print(\"Pesos optimos \\n \", w_opt)    \n",
    "    #estimate targets for the training dataset\n",
    "    t_estimated = forward(M, w_opt)\n",
    "    #evaluates error using L1 distance\n",
    "    error = evaluate_error(t, t_estimated)\n",
    "    plot_line(w_opt)\n",
    "    print(\"Training error: \", error)\n",
    "    #Test error\n",
    "    (t_test, M_test) = createData(numberSamplesPerClass = 20)\n",
    "    #estimate targets for the training dataset\n",
    "    t_estimated_test = forward(M_test, w_opt)\n",
    "    #evaluates error using L1 distance\n",
    "    error = evaluate_error(t_test, t_estimated_test)\n",
    "    print(\"Test error: \", error)\n",
    "    \n",
    "#main()\n",
    "(t, M) = createData(numberSamplesPerClass = 20, mean1 = [6, 6], mean2 = [14, 14], stds1 = [3, 3], stds2 = [2, 1])\n",
    "    "
   ]
  }
 ],
 "metadata": {
  "accelerator": "GPU",
  "colab": {
   "provenance": []
  },
  "kernelspec": {
   "display_name": "Python 3 (ipykernel)",
   "language": "python",
   "name": "python3"
  },
  "language_info": {
   "codemirror_mode": {
    "name": "ipython",
    "version": 3
   },
   "file_extension": ".py",
   "mimetype": "text/x-python",
   "name": "python",
   "nbconvert_exporter": "python",
   "pygments_lexer": "ipython3",
   "version": "3.9.13"
  }
 },
 "nbformat": 4,
 "nbformat_minor": 1
}
