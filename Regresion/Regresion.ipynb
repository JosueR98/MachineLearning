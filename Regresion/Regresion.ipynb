{
 "cells": [
  {
   "cell_type": "code",
   "execution_count": 1,
   "metadata": {
    "colab": {
     "base_uri": "https://localhost:8080/",
     "height": 704
    },
    "id": "sOuz2s2HLxYg",
    "outputId": "c115266c-489a-444d-f349-b5437515c492"
   },
   "outputs": [
    {
     "data": {
      "image/png": "[encoded data removed]",
      "text/plain": [
       "<Figure size 432x288 with 1 Axes>"
      ]
     },
     "metadata": {
      "needs_background": "light"
     },
     "output_type": "display_data"
    },
    {
     "name": "stdout",
     "output_type": "stream",
     "text": [
      "Error from the observed and the ideal signal\n",
      "1.8837405871498951\n",
      "Approx model\n"
     ]
    },
    {
     "data": {
      "image/png": "[encoded data removed]",
      "text/plain": [
       "<Figure size 432x288 with 1 Axes>"
      ]
     },
     "metadata": {
      "needs_background": "light"
     },
     "output_type": "display_data"
    }
   ],
   "source": [
    "from mpl_toolkits.mplot3d import Axes3D\n",
    "import matplotlib.pyplot as plt\n",
    "from matplotlib import cm\n",
    "from matplotlib.ticker import LinearLocator, FormatStrFormatter\n",
    "import numpy as np\n",
    "from numpy.linalg import pinv\n",
    "\n",
    "\"\"\"\n",
    "Main function\n",
    "\"\"\"\n",
    "def runCurveFittingExample():\n",
    "   \n",
    "    #Upper bound\n",
    "    Max = 1;\n",
    "    #??\n",
    "    N = 10;\n",
    "    stdNoise = 2;\n",
    "    M = 30;\n",
    "    lambdaF = 0;\n",
    "    #independent variable array\n",
    "    x = np.arange(0, Max, 1/(N/Max));                 \n",
    "    x = np.concatenate((x, np.array([Max])));                 \n",
    "    #observed values and real values    \n",
    "    (t, yReal) = getObservationArray(x, stdNoise);\n",
    "    #scatter of the noisy signal\n",
    "    plt.scatter(x, t);\n",
    "    plt.show()\n",
    "    #error from observed and ideal signal\n",
    "    (e, eRMS) = getError(yReal, t);\n",
    "    print(\"Error from the observed and the ideal signal\")\n",
    "    print(eRMS);\n",
    "         \n",
    "    #calculate the weights for the polynomial model     \n",
    "    w = getOptimumWReg(x, t, M, lambdaF);\n",
    "    yApprox = np.zeros(np.shape(x));\n",
    "    #evaluate the model\n",
    "    for i in range(0, np.size(x)):\n",
    "        yApprox[i] = getY(x[i] , w);\n",
    "      \n",
    "    #plot the model response for the given x values\n",
    "    print(\"Approx model\")\n",
    "    plt.plot(x, yApprox);\n",
    "    plt.show();\n",
    "    #rint(w)\n",
    "                      \n",
    "\"\"\"\n",
    "According to the weights w, evaluates the polynomial model\n",
    "@param xScalar, x value to evaluate... i.e. y(xScalar)\n",
    "@param w, array of weights for the polynomial model\n",
    "@return y\n",
    "\"\"\" \n",
    "def getY(xScalar, w):\n",
    "    y = 0;\n",
    "    for i in range(0, np.size(w)):\n",
    "        y = y + w[i] * xScalar ** i;\n",
    "    return y;\n",
    "\n",
    "\"\"\"\n",
    "Creates the observation array t, from a sinusoidal wave\n",
    "@param x, the x values \n",
    "@param stdNoise, standard deviation of noise, hihger, lower signal to noise ratio\n",
    "@return (t, yReal), the observed values and the original signal without noise\n",
    "\"\"\"                 \n",
    "def getObservationArray(x, stdNoise):\n",
    "    snr = 8;\n",
    "    yReal = np.sin(2* np.pi * x);\n",
    "    #create noise\n",
    "    noise = np.random.normal(0, stdNoise, yReal.shape);\n",
    "    #additive gaussian noise                        \n",
    "    t = yReal + noise;\n",
    "    return (t, yReal);\n",
    "\"\"\"\n",
    "Returns the error from arrays y and t\n",
    "@param y, array with the real values (without noise)\n",
    "@param t, array with observed values, with noise\n",
    "@return (e, eRMS)\n",
    "\"\"\"\n",
    "def getError(y, t):\n",
    "    e = 0.5 * np.sum(np.square(y - t));\n",
    "    eRMS = np.sqrt((2*e)/y.size);\n",
    "    return (e, eRMS)\n",
    "\n",
    "\"\"\"\n",
    "Calculate the w weights \n",
    "@param x, array of x values\n",
    "@param t, array of target or observed values\n",
    "@param M, number of polynomial bases used\n",
    "@param lambdaF, regularization parameter\n",
    "\"\"\"\n",
    "def getOptimumWReg(x, t, M, lambdaF):\n",
    "    M += 1;\n",
    "    #init matrix with replicated x per column\n",
    "    X = np.zeros((x.size, M));\n",
    "    for i in range(0, X.shape[0]):\n",
    "        for j in range(0, X.shape[1]):\n",
    "            #definition of matrix X\n",
    "            X[i, j] = x[i] ** j;\n",
    "    # X * X^t        \n",
    "    term1 = np.matmul(X.transpose(), X);\n",
    "    # lambda * I;                  \n",
    "    lambdaI = lambdaF  * np.identity(np.shape(term1)[0]);\n",
    "    #(X * X^t + lambda *I)\n",
    "    fac1 = term1 + lambdaI\n",
    "    #X^t * t\n",
    "    fac2 = np.matmul(X.transpose(), t);\n",
    "    fac1Inv =  pinv(fac1);               \n",
    "                    \n",
    "    w = np.matmul(fac1Inv, fac2);\n",
    "    return w;                               \n",
    "    \n",
    "                  \n",
    "runCurveFittingExample();                 \n",
    "                  \n",
    "    \n",
    "\n",
    "    "
   ]
  },
  {
   "cell_type": "code",
   "execution_count": null,
   "metadata": {},
   "outputs": [],
   "source": []
  }
 ],
 "metadata": {
  "colab": {
   "name": "Regresion.ipynb",
   "provenance": []
  },
  "kernelspec": {
   "display_name": "Python 3 (ipykernel)",
   "language": "python",
   "name": "python3"
  },
  "language_info": {
   "codemirror_mode": {
    "name": "ipython",
    "version": 3
   },
   "file_extension": ".py",
   "mimetype": "text/x-python",
   "name": "python",
   "nbconvert_exporter": "python",
   "pygments_lexer": "ipython3",
   "version": "3.9.7"
  }
 },
 "nbformat": 4,
 "nbformat_minor": 1
}
