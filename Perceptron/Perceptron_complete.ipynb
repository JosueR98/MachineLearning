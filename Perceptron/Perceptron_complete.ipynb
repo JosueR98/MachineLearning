{
 "cells": [
  {
   "cell_type": "code",
   "execution_count": 7,
   "metadata": {
    "id": "qDVvweY0UIm0"
   },
   "outputs": [
    {
     "name": "stdout",
     "output_type": "stream",
     "text": [
      "Requirement already satisfied: torchvision in c:\\users\\jorac\\anaconda3\\lib\\site-packages (0.15.1)\n",
      "Requirement already satisfied: numpy in c:\\users\\jorac\\anaconda3\\lib\\site-packages (from torchvision) (1.21.5)\n",
      "Requirement already satisfied: requests in c:\\users\\jorac\\anaconda3\\lib\\site-packages (from torchvision) (2.28.1)\n",
      "Requirement already satisfied: pillow!=8.3.*,>=5.3.0 in c:\\users\\jorac\\anaconda3\\lib\\site-packages (from torchvision) (9.2.0)\n",
      "Requirement already satisfied: torch==2.0.0 in c:\\users\\jorac\\anaconda3\\lib\\site-packages (from torchvision) (2.0.0)\n",
      "Requirement already satisfied: jinja2 in c:\\users\\jorac\\anaconda3\\lib\\site-packages (from torch==2.0.0->torchvision) (2.11.3)\n",
      "Requirement already satisfied: networkx in c:\\users\\jorac\\anaconda3\\lib\\site-packages (from torch==2.0.0->torchvision) (2.8.4)\n",
      "Requirement already satisfied: typing-extensions in c:\\users\\jorac\\anaconda3\\lib\\site-packages (from torch==2.0.0->torchvision) (4.3.0)\n",
      "Requirement already satisfied: sympy in c:\\users\\jorac\\anaconda3\\lib\\site-packages (from torch==2.0.0->torchvision) (1.10.1)\n",
      "Requirement already satisfied: filelock in c:\\users\\jorac\\anaconda3\\lib\\site-packages (from torch==2.0.0->torchvision) (3.6.0)\n",
      "Requirement already satisfied: certifi>=2017.4.17 in c:\\users\\jorac\\anaconda3\\lib\\site-packages (from requests->torchvision) (2022.9.14)\n",
      "Requirement already satisfied: idna<4,>=2.5 in c:\\users\\jorac\\anaconda3\\lib\\site-packages (from requests->torchvision) (3.3)\n",
      "Requirement already satisfied: urllib3<1.27,>=1.21.1 in c:\\users\\jorac\\anaconda3\\lib\\site-packages (from requests->torchvision) (1.26.11)\n",
      "Requirement already satisfied: charset-normalizer<3,>=2 in c:\\users\\jorac\\anaconda3\\lib\\site-packages (from requests->torchvision) (2.0.4)\n",
      "Requirement already satisfied: MarkupSafe>=0.23 in c:\\users\\jorac\\anaconda3\\lib\\site-packages (from jinja2->torch==2.0.0->torchvision) (2.0.1)\n",
      "Requirement already satisfied: mpmath>=0.19 in c:\\users\\jorac\\anaconda3\\lib\\site-packages (from sympy->torch==2.0.0->torchvision) (1.2.1)\n"
     ]
    }
   ],
   "source": [
    "!pip install torchvision\n",
    "from __future__ import print_function\n",
    "import argparse\n",
    "import torch\n",
    "import torch.nn as nn\n",
    "import torch.nn.functional as F\n",
    "import torch.optim as optim\n",
    "import numpy as np;\n",
    "import pandas as pandas;\n",
    "from scipy import ndimage\n",
    "from torchvision import datasets, transforms\n",
    "from torch.distributions import normal\n",
    "from torch.distributions import multivariate_normal\n",
    "import matplotlib.pyplot as plt\n"
   ]
  },
  {
   "cell_type": "markdown",
   "metadata": {
    "id": "RDHYTE1qUKJ6"
   },
   "source": [
    "## Creation of artificial data\n",
    "\n",
    "Data are created artificially with a mixed Gaussian distribution of two clusters, with specific means and standard deviations"
   ]
  },
  {
   "cell_type": "code",
   "execution_count": 8,
   "metadata": {
    "id": "iZUnRQCtUi6l"
   },
   "outputs": [],
   "source": [
    "\n",
    "def createData(numberSamplesPerClass = 2, mean1 = [2, 2], mean2 = [26, 26], stds1 = [3, 3], stds2 = [2, 1]):\n",
    "    \"\"\"\n",
    "    Creates the data to be used for training, using a GMM distribution\n",
    "    @param numberSamplesPerClass, the number of samples per class\n",
    "    @param mean1, means for samples from the class 1\n",
    "    @param mean2, means for samples from the class 2\n",
    "    @param stds1, standard deviation for samples, class 1\n",
    "    @param stds2, standard deviation for samples, class 2    \"\"\"\n",
    "    means = torch.zeros(2)\n",
    "    # Ones to concatenate for bias\n",
    "    ones = torch.ones(numberSamplesPerClass, 1)\n",
    "    means[0] = mean1[0]\n",
    "    means[1] = mean1[1]\n",
    "    # Covariance matrix creation with identity\n",
    "    covarianceMatrix = torch.eye(2)\n",
    "    covarianceMatrix[0, 0] = stds1[0]\n",
    "    covarianceMatrix[1, 1] = stds1[1]\n",
    "    samplesClass1 = createDataOneClass(means, covarianceMatrix, numberSamplesPerClass)\n",
    "    means[0] = mean2[0]\n",
    "    means[1] = mean2[1]\n",
    "    covarianceMatrix[0, 0] = stds2[0]\n",
    "    covarianceMatrix[1, 1] = stds2[1]\n",
    "    samplesClass2 = createDataOneClass(means, covarianceMatrix, numberSamplesPerClass)\n",
    "    # Concatenates the ones for the bias\n",
    "    samplesClass1Bias = torch.cat((ones, samplesClass1), 1)\n",
    "    samplesClass2Bias = torch.cat((ones, samplesClass2), 1)\n",
    "    samplesAll = torch.cat((samplesClass1, samplesClass2), 0)\n",
    "    plt.scatter(samplesClass1[:, 0], samplesClass1[:, 1])\n",
    "    plt.scatter(samplesClass2[:, 0], samplesClass2[:, 1], marker = 'x')\n",
    "    #plt.show()\n",
    "    #Create samples with bias\n",
    "    samplesAllBias = torch.cat((samplesClass1Bias, samplesClass2Bias), 0)\n",
    "    \n",
    "    #Create targets\n",
    "    targetsClass1 = torch.ones(numberSamplesPerClass, 1)\n",
    "    targetsClass2 = -1 * torch.ones(numberSamplesPerClass, 1)\n",
    "    targetsAll = torch.cat((targetsClass1, targetsClass2), 0)\n",
    "    \n",
    "    return (targetsAll, samplesAllBias)\n",
    "\n",
    "\n",
    "'''\n",
    "Creates data with gaussian distribution\n",
    "'''\n",
    "def createDataOneClass(means, covarianceMatrix, numberSamples):\n",
    "    # Inits the bi gaussian data generator\n",
    "    multiGaussGenerator = multivariate_normal.MultivariateNormal(means, covarianceMatrix)\n",
    "    # Takes the samples\n",
    "    samples = multiGaussGenerator.sample(torch.Size([numberSamples]))\n",
    "    \n",
    "    return samples"
   ]
  },
  {
   "cell_type": "markdown",
   "metadata": {
    "id": "ITE9GLbWXS3G"
   },
   "source": [
    "## Train model\n",
    "Train the model using the least squares approach"
   ]
  },
  {
   "cell_type": "code",
   "execution_count": 4,
   "metadata": {
    "id": "VQkql441Xgwe"
   },
   "outputs": [],
   "source": [
    "  \n",
    "  def estimateOptimumW(TargetsAll, SamplesAll, P = 20, coefAprendizaje = 1):\n",
    "    \"\"\" \n",
    "    Train model\n",
    "    Estimate the optimum W with NO FORS, only for epochs\n",
    "    param TargetsAll, NumSamples x 1 matrix with target values (1 or -1)\n",
    "    param SamplesAll, NumSamples x NumDimensions \n",
    "    return wOpt, array with optimum weights\n",
    "    \"\"\"\n",
    "    #implementar el criterio del perceptron, hacer aleatorio    \n",
    "    wOpt = torch.ones(3, 1) \n",
    "    #lista de errores \n",
    "    \n",
    "    errorPerEpoch = []    \n",
    "    for epoch in range(0, P):\n",
    "        #no reescribir la matriz de observaciones\n",
    "        SamplesAllIter = SamplesAll.clone()\n",
    "        #Calcular el vector gradiente\n",
    "        #crear un ciclo que se va a repetir por P veces, cantidad de epochs\n",
    "        #peso de red\n",
    "        perceptronCriterion = SamplesAllIter.mm(wOpt) * TargetsAll \n",
    "        #seleccionar las observaciones incorrectamente clasificadas por el modelo con pesos wOpt, \n",
    "        #usando el crit. del perceptron\n",
    "        perceptronCriterion_mat = perceptronCriterion.mm(torch.ones(1, 3))             \n",
    "        SamplesAllIter[perceptronCriterion_mat >= 0] = 0        \n",
    "        #calculate error gradient       \n",
    "        error_grad_all_observations = SamplesAllIter * TargetsAll              \n",
    "        error_grad_sum = torch.sum(error_grad_all_observations, 0)       \n",
    "        #make it a column matrix \n",
    "        error_grad_sum = error_grad_sum.unsqueeze(0).transpose(0, 1)              \n",
    "        #Actualizar el vector de pesos        \n",
    "        wOpt = wOpt + coefAprendizaje * error_grad_sum           \n",
    "        #Imprimir el error total\n",
    "        EstimatedTargets = forward(SamplesAll, wOpt)        \n",
    "        error = evaluateError(TargetsAll, EstimatedTargets)\n",
    "        #print(\"Epoch: \", epoch, \" error: \", error)\n",
    "        errorPerEpoch += [error]\n",
    "    return wOpt, errorPerEpoch\n",
    "  \n",
    "  def forward(SamplesAll, wOpt):\n",
    "    \"\"\"\n",
    "    Get model output, with NO FORS\n",
    "    param TargetsAll\n",
    "    return EstimatedTargets, with 1 or -1\n",
    "    \"\"\"\n",
    "    EstimatedTargetsAll = SamplesAll.mm(wOpt)\n",
    "    EstimatedTargetsAll[EstimatedTargetsAll >= 0] = 1\n",
    "    EstimatedTargetsAll[EstimatedTargetsAll < 0] = -1\n",
    "    return EstimatedTargetsAll   \n",
    "    \n",
    "   \n",
    "  \n",
    "  def evaluateError(TargetsAll, EstimatedTargetsAll):\n",
    "    \"\"\"\n",
    "    Evaluate model error using the euclidian distance\n",
    "    param TargetsAll, real targets\n",
    "    param EstimatedTargets\n",
    "    \"\"\"\n",
    "    error = (1/TargetsAll.shape[0]) * torch.norm(TargetsAll - EstimatedTargetsAll, 2)\n",
    "    return error\n",
    "\n",
    "  def plot_line(wOpt):\n",
    "    wOpt = wOpt.cpu().detach()\n",
    "    b = (-1*wOpt[0] / wOpt[2]).numpy()[0]\n",
    "    m = (-1*wOpt[1] / wOpt[2]).numpy()[0]\n",
    "    x = np.arange(0., 15., 0.01)\n",
    "    y = m * x + b\n",
    "    plt.plot(x, y)\n",
    "    plt.show()"
   ]
  },
  {
   "cell_type": "markdown",
   "metadata": {
    "id": "3xyHDc6rVC3n"
   },
   "source": [
    "## Main function and error graphing by epoch\n",
    "\n",
    "The main function creates the dataset and trains the perceptron, to finally plot the error by epoch."
   ]
  },
  {
   "cell_type": "code",
   "execution_count": 2,
   "metadata": {
    "colab": {
     "base_uri": "https://localhost:8080/",
     "height": 897
    },
    "id": "4YjRc89jVR2X",
    "outputId": "0f35b2f6-5c4f-43f8-fa80-76cd5ec62f55"
   },
   "outputs": [
    {
     "ename": "NameError",
     "evalue": "name 'createData' is not defined",
     "output_type": "error",
     "traceback": [
      "\u001b[1;31m---------------------------------------------------------------------------\u001b[0m",
      "\u001b[1;31mNameError\u001b[0m                                 Traceback (most recent call last)",
      "\u001b[1;32m~\\AppData\\Local\\Temp\\ipykernel_3268\\2417038866.py\u001b[0m in \u001b[0;36m<module>\u001b[1;34m\u001b[0m\n\u001b[0;32m     21\u001b[0m \u001b[1;33m\u001b[0m\u001b[0m\n\u001b[0;32m     22\u001b[0m \u001b[1;33m\u001b[0m\u001b[0m\n\u001b[1;32m---> 23\u001b[1;33m \u001b[0mmain\u001b[0m\u001b[1;33m(\u001b[0m\u001b[1;33m)\u001b[0m\u001b[1;33m\u001b[0m\u001b[1;33m\u001b[0m\u001b[0m\n\u001b[0m",
      "\u001b[1;32m~\\AppData\\Local\\Temp\\ipykernel_3268\\2417038866.py\u001b[0m in \u001b[0;36mmain\u001b[1;34m()\u001b[0m\n\u001b[0;32m      3\u001b[0m \"\"\"\n\u001b[0;32m      4\u001b[0m \u001b[1;32mdef\u001b[0m \u001b[0mmain\u001b[0m\u001b[1;33m(\u001b[0m\u001b[1;33m)\u001b[0m\u001b[1;33m:\u001b[0m\u001b[1;33m\u001b[0m\u001b[1;33m\u001b[0m\u001b[0m\n\u001b[1;32m----> 5\u001b[1;33m     \u001b[1;33m(\u001b[0m\u001b[0mTargetsAll\u001b[0m\u001b[1;33m,\u001b[0m \u001b[0mSamplesAll\u001b[0m\u001b[1;33m)\u001b[0m \u001b[1;33m=\u001b[0m \u001b[0mcreateData\u001b[0m\u001b[1;33m(\u001b[0m\u001b[0mnumberSamplesPerClass\u001b[0m \u001b[1;33m=\u001b[0m \u001b[1;36m200\u001b[0m\u001b[1;33m,\u001b[0m \u001b[0mmean1\u001b[0m \u001b[1;33m=\u001b[0m \u001b[1;33m[\u001b[0m\u001b[1;36m10\u001b[0m\u001b[1;33m,\u001b[0m \u001b[1;36m10\u001b[0m\u001b[1;33m]\u001b[0m\u001b[1;33m,\u001b[0m \u001b[0mmean2\u001b[0m \u001b[1;33m=\u001b[0m \u001b[1;33m[\u001b[0m\u001b[1;36m18\u001b[0m\u001b[1;33m,\u001b[0m \u001b[1;36m18\u001b[0m\u001b[1;33m]\u001b[0m\u001b[1;33m,\u001b[0m \u001b[0mstds1\u001b[0m \u001b[1;33m=\u001b[0m \u001b[1;33m[\u001b[0m\u001b[1;36m3\u001b[0m\u001b[1;33m,\u001b[0m \u001b[1;36m3\u001b[0m\u001b[1;33m]\u001b[0m\u001b[1;33m,\u001b[0m \u001b[0mstds2\u001b[0m \u001b[1;33m=\u001b[0m \u001b[1;33m[\u001b[0m\u001b[1;36m2\u001b[0m\u001b[1;33m,\u001b[0m \u001b[1;36m2\u001b[0m\u001b[1;33m]\u001b[0m\u001b[1;33m)\u001b[0m\u001b[1;33m\u001b[0m\u001b[1;33m\u001b[0m\u001b[0m\n\u001b[0m\u001b[0;32m      6\u001b[0m     \u001b[0mwOpt\u001b[0m \u001b[1;33m=\u001b[0m \u001b[0mtorch\u001b[0m\u001b[1;33m.\u001b[0m\u001b[0mones\u001b[0m\u001b[1;33m(\u001b[0m\u001b[1;36m3\u001b[0m\u001b[1;33m,\u001b[0m \u001b[1;36m1\u001b[0m\u001b[1;33m)\u001b[0m\u001b[1;33m\u001b[0m\u001b[1;33m\u001b[0m\u001b[0m\n\u001b[0;32m      7\u001b[0m     \u001b[1;31m#Evaluar el forward\u001b[0m\u001b[1;33m\u001b[0m\u001b[1;33m\u001b[0m\u001b[0m\n",
      "\u001b[1;31mNameError\u001b[0m: name 'createData' is not defined"
     ]
    }
   ],
   "source": [
    "\"\"\"\n",
    "Main function\n",
    "\"\"\"\n",
    "def main():\n",
    "    (TargetsAll, SamplesAll) = createData(numberSamplesPerClass = 200, mean1 = [10, 10], mean2 = [18, 18], stds1 = [3, 3], stds2 = [2, 2])    \n",
    "    wOpt = torch.ones(3, 1)\n",
    "    #Evaluar el forward\n",
    "    #EstimatedTargets = forward(SamplesAll, wOpt)    \n",
    "    wOpt, errorPerEpoch = estimateOptimumW(TargetsAll, SamplesAll, P = 50, coefAprendizaje = 0.00001)    \n",
    "    plot_line(wOpt)\n",
    "    EstimatedTargetsAll = forward(SamplesAll, wOpt)\n",
    "    print(\"Final error with training data\")\n",
    "    error = evaluateError(TargetsAll, EstimatedTargetsAll)        \n",
    "    print(error)\n",
    "    plt.plot(errorPerEpoch)\n",
    "    plt.ylabel(\"MSE\")\n",
    "    plt.xlabel(\"Epoch\")\n",
    "    plt.show()\n",
    "    \n",
    "    \n",
    "    \n",
    "        \n",
    "main()"
   ]
  },
  {
   "cell_type": "code",
   "execution_count": 1,
   "metadata": {
    "id": "XbvNm88qhuUg",
    "outputId": "c0b3bbe2-1bf9-46e4-f309-4d80e0ad5241"
   },
   "outputs": [
    {
     "ename": "NameError",
     "evalue": "name 'torch' is not defined",
     "output_type": "error",
     "traceback": [
      "\u001b[1;31m---------------------------------------------------------------------------\u001b[0m",
      "\u001b[1;31mNameError\u001b[0m                                 Traceback (most recent call last)",
      "\u001b[1;32m~\\AppData\\Local\\Temp\\ipykernel_3268\\1612076593.py\u001b[0m in \u001b[0;36m<module>\u001b[1;34m\u001b[0m\n\u001b[1;32m----> 1\u001b[1;33m \u001b[0ma\u001b[0m \u001b[1;33m=\u001b[0m \u001b[0mtorch\u001b[0m\u001b[1;33m.\u001b[0m\u001b[0mtensor\u001b[0m\u001b[1;33m(\u001b[0m\u001b[1;33m[\u001b[0m\u001b[1;36m5\u001b[0m\u001b[1;33m,\u001b[0m \u001b[1;36m6\u001b[0m\u001b[1;33m,\u001b[0m \u001b[1;36m7\u001b[0m\u001b[1;33m,\u001b[0m \u001b[1;36m8\u001b[0m\u001b[1;33m,\u001b[0m \u001b[1;36m9\u001b[0m\u001b[1;33m]\u001b[0m\u001b[1;33m)\u001b[0m\u001b[1;33m\u001b[0m\u001b[1;33m\u001b[0m\u001b[0m\n\u001b[0m\u001b[0;32m      2\u001b[0m \u001b[0mb\u001b[0m \u001b[1;33m=\u001b[0m \u001b[0ma\u001b[0m \u001b[1;33m>\u001b[0m \u001b[1;36m6\u001b[0m\u001b[1;33m\u001b[0m\u001b[1;33m\u001b[0m\u001b[0m\n\u001b[0;32m      3\u001b[0m \u001b[0ma\u001b[0m\u001b[1;33m[\u001b[0m\u001b[0ma\u001b[0m \u001b[1;33m>\u001b[0m \u001b[1;36m6\u001b[0m\u001b[1;33m]\u001b[0m \u001b[1;33m=\u001b[0m \u001b[1;33m-\u001b[0m\u001b[1;36m20\u001b[0m\u001b[1;33m\u001b[0m\u001b[1;33m\u001b[0m\u001b[0m\n\u001b[0;32m      4\u001b[0m \u001b[0mprint\u001b[0m\u001b[1;33m(\u001b[0m\u001b[0mb\u001b[0m\u001b[1;33m)\u001b[0m\u001b[1;33m\u001b[0m\u001b[1;33m\u001b[0m\u001b[0m\n\u001b[0;32m      5\u001b[0m \u001b[0mprint\u001b[0m\u001b[1;33m(\u001b[0m\u001b[0ma\u001b[0m\u001b[1;33m)\u001b[0m\u001b[1;33m\u001b[0m\u001b[1;33m\u001b[0m\u001b[0m\n",
      "\u001b[1;31mNameError\u001b[0m: name 'torch' is not defined"
     ]
    }
   ],
   "source": [
    "a = torch.tensor([5, 6, 7, 8, 9])\n",
    "b = a > 6\n",
    "a[a > 6] = -20\n",
    "print(b)\n",
    "print(a)"
   ]
  },
  {
   "cell_type": "code",
   "execution_count": null,
   "metadata": {
    "id": "N6qtgjMbcVUJ",
    "outputId": "45e18283-8336-4b90-ce72-8b9cd35a2225"
   },
   "outputs": [
    {
     "name": "stdout",
     "output_type": "stream",
     "text": [
      "tensor([ 2., 10.,  9.])\n"
     ]
    }
   ],
   "source": [
    "#multiplicacion element wise\n",
    "a = torch.tensor([1.0, 2.0, 3.0])\n",
    "b = torch.tensor([2.0, 5.0, 3.0])\n",
    "c = a * b\n",
    "print(c)"
   ]
  },
  {
   "cell_type": "code",
   "execution_count": null,
   "metadata": {
    "id": "WJzzY8G3huUi",
    "outputId": "db06e226-2cd5-40af-860e-979be0cc9417"
   },
   "outputs": [
    {
     "name": "stdout",
     "output_type": "stream",
     "text": [
      "tensor([[1., 1.],\n",
      "        [1., 1.],\n",
      "        [1., 1.],\n",
      "        [1., 1.]])\n"
     ]
    }
   ],
   "source": [
    "f = torch.nn.Sigmoid()\n",
    "Gamma = torch.tensor([[36.7, 51.1], [33.9, 48.1], [53.3, 68.6], [47.1, 61.1]])\n",
    "Y = f(Gamma)\n",
    "print(Y)"
   ]
  },
  {
   "cell_type": "code",
   "execution_count": null,
   "metadata": {
    "id": "GY02YOXbhuUi"
   },
   "outputs": [],
   "source": []
  }
 ],
 "metadata": {
  "colab": {
   "provenance": []
  },
  "kernelspec": {
   "display_name": "Python 3 (ipykernel)",
   "language": "python",
   "name": "python3"
  },
  "language_info": {
   "codemirror_mode": {
    "name": "ipython",
    "version": 3
   },
   "file_extension": ".py",
   "mimetype": "text/x-python",
   "name": "python",
   "nbconvert_exporter": "python",
   "pygments_lexer": "ipython3",
   "version": "3.9.13"
  }
 },
 "nbformat": 4,
 "nbformat_minor": 1
}
