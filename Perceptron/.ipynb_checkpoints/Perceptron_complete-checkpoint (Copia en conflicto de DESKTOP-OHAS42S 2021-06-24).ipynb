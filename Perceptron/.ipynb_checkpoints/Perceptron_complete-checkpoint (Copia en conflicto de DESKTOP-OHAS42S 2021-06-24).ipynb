{
 "cells": [
  {
   "cell_type": "code",
   "execution_count": 1,
   "metadata": {
    "id": "qDVvweY0UIm0"
   },
   "outputs": [],
   "source": [
    "from __future__ import print_function\n",
    "import argparse\n",
    "import torch\n",
    "import torch.nn as nn\n",
    "import torch.nn.functional as F\n",
    "import torch.optim as optim\n",
    "import numpy as np;\n",
    "import pandas as pandas;\n",
    "from scipy import ndimage\n",
    "from torchvision import datasets, transforms\n",
    "from torch.distributions import normal\n",
    "from torch.distributions import multivariate_normal\n",
    "import matplotlib.pyplot as plt\n"
   ]
  },
  {
   "cell_type": "markdown",
   "metadata": {
    "id": "RDHYTE1qUKJ6"
   },
   "source": [
    "## Creation of artificial data\n",
    "\n",
    "Data are created artificially with a mixed Gaussian distribution of two clusters, with specific means and standard deviations"
   ]
  },
  {
   "cell_type": "code",
   "execution_count": 2,
   "metadata": {
    "id": "iZUnRQCtUi6l"
   },
   "outputs": [],
   "source": [
    "\n",
    "def createData(numberSamplesPerClass = 2, mean1 = [2, 2], mean2 = [16, 16], stds1 = [3, 3], stds2 = [2, 1]):\n",
    "    \"\"\"\n",
    "    Creates the data to be used for training, using a GMM distribution\n",
    "    @param numberSamplesPerClass, the number of samples per class\n",
    "    @param mean1, means for samples from the class 1\n",
    "    @param mean2, means for samples from the class 2\n",
    "    @param stds1, standard deviation for samples, class 1\n",
    "    @param stds2, standard deviation for samples, class 2    \"\"\"\n",
    "    means = torch.zeros(2)\n",
    "    # Ones to concatenate for bias\n",
    "    ones = torch.ones(numberSamplesPerClass, 1)\n",
    "    means[0] = mean1[0]\n",
    "    means[1] = mean1[1]\n",
    "    # Covariance matrix creation with identity\n",
    "    covarianceMatrix = torch.eye(2)\n",
    "    covarianceMatrix[0, 0] = stds1[0]\n",
    "    covarianceMatrix[1, 1] = stds1[1]\n",
    "    samplesClass1 = createDataOneClass(means, covarianceMatrix, numberSamplesPerClass)\n",
    "    means[0] = mean2[0]\n",
    "    means[1] = mean2[1]\n",
    "    covarianceMatrix[0, 0] = stds2[0]\n",
    "    covarianceMatrix[1, 1] = stds2[1]\n",
    "    samplesClass2 = createDataOneClass(means, covarianceMatrix, numberSamplesPerClass)\n",
    "    # Concatenates the ones for the bias\n",
    "    samplesClass1Bias = torch.cat((ones, samplesClass1), 1)\n",
    "    samplesClass2Bias = torch.cat((ones, samplesClass2), 1)\n",
    "    samplesAll = torch.cat((samplesClass1, samplesClass2), 0)\n",
    "    plt.scatter(samplesAll[:, 0], samplesAll[:, 1])\n",
    "    plt.show()\n",
    "    #Create samples with bias\n",
    "    samplesAllBias = torch.cat((samplesClass1Bias, samplesClass2Bias), 0)\n",
    "    \n",
    "    #Create targets\n",
    "    targetsClass1 = torch.ones(numberSamplesPerClass, 1)\n",
    "    targetsClass2 = -1 * torch.ones(numberSamplesPerClass, 1)\n",
    "    targetsAll = torch.cat((targetsClass1, targetsClass2), 0)\n",
    "    \n",
    "    return (targetsAll, samplesAllBias)\n",
    "\n",
    "\n",
    "'''\n",
    "Creates data with gaussian distribution\n",
    "'''\n",
    "def createDataOneClass(means, covarianceMatrix, numberSamples):\n",
    "    # Inits the bi gaussian data generator\n",
    "    multiGaussGenerator = multivariate_normal.MultivariateNormal(means, covarianceMatrix)\n",
    "    # Takes the samples\n",
    "    samples = multiGaussGenerator.sample(torch.Size([numberSamples]))\n",
    "    \n",
    "    return samples"
   ]
  },
  {
   "cell_type": "markdown",
   "metadata": {
    "id": "ITE9GLbWXS3G"
   },
   "source": [
    "## Train model\n",
    "Train the model using the least squares approach"
   ]
  },
  {
   "cell_type": "code",
   "execution_count": 12,
   "metadata": {
    "id": "VQkql441Xgwe"
   },
   "outputs": [],
   "source": [
    "  \n",
    "  def estimateOptimumW(TargetsAll, SamplesAll, P = 20, coefAprendizaje = 1):\n",
    "    \"\"\" \n",
    "    Train model\n",
    "    Estimate the optimum W with NO FORS, only for epochs\n",
    "    param TargetsAll, NumSamples x 1 matrix with target values (1 or -1)\n",
    "    param SamplesAll, NumSamples x NumDimensions \n",
    "    return wOpt, array with optimum weights\n",
    "    \"\"\"\n",
    "    #implementar el criterio del perceptron, hacer aleatorio    \n",
    "    wOpt = torch.ones(3, 1) \n",
    "    #lista de errores\n",
    "    errorPerEpoch = []    \n",
    "    print(\"coefAprendizaje \", coefAprendizaje)\n",
    "    for epoch in range(0, P):\n",
    "        #no reescribir la matriz de observaciones\n",
    "        SamplesAllIter = SamplesAll.clone()\n",
    "        #Calcular el vector gradiente\n",
    "        #crear un ciclo que se va a repetir por P veces, cantidad de epochs\n",
    "        perceptronCriterion = SamplesAllIter.mm(wOpt) * TargetsAll \n",
    "        #seleccionar las observaciones incorrectamente clasificadas por el modelo con pesos wOpt, \n",
    "        #usando el crit. del perceptron\n",
    "        perceptronCriterion_mat = perceptronCriterion.mm(torch.ones(1, 3))             \n",
    "        SamplesAllIter[perceptronCriterion_mat >= 0] = 0        \n",
    "        #calculate error gradient       \n",
    "        error_grad_all_observations = SamplesAllIter * TargetsAll              \n",
    "        error_grad_sum = torch.sum(error_grad_all_observations, 0)       \n",
    "        #make it a column matrix \n",
    "        error_grad_sum = error_grad_sum.unsqueeze(0).transpose(0, 1)              \n",
    "        #Actualizar el vector de pesos        \n",
    "        wOpt = wOpt + coefAprendizaje * error_grad_sum    \n",
    "        print(coefAprendizaje)\n",
    "        print(torch.norm(wOpt, 2))\n",
    "        #Imprimir el error total\n",
    "        EstimatedTargets = forward(SamplesAll, wOpt)        \n",
    "        error = evaluateError(TargetsAll, EstimatedTargets)\n",
    "        print(\"Epoch: \", epoch, \" error: \", error)\n",
    "        errorPerEpoch += [error]\n",
    "    return wOpt, errorPerEpoch\n",
    "  \n",
    "  def forward(SamplesAll, wOpt):\n",
    "    \"\"\"\n",
    "    Get model output, with NO FORS\n",
    "    param TargetsAll\n",
    "    return EstimatedTargets, with 1 or -1\n",
    "    \"\"\"\n",
    "    print(\"norm en forward \", torch.norm(wOpt, 2))\n",
    "    EstimatedTargetsAll = SamplesAll.mm(wOpt)\n",
    "    EstimatedTargetsAll[EstimatedTargetsAll >= 0] = 1\n",
    "    EstimatedTargetsAll[EstimatedTargetsAll < 0] = -1\n",
    "    return EstimatedTargetsAll   \n",
    "    \n",
    "   \n",
    "  \n",
    "  def evaluateError(TargetsAll, EstimatedTargetsAll):\n",
    "    \"\"\"\n",
    "    Evaluate model error using the euclidian distance\n",
    "    param TargetsAll, real targets\n",
    "    param EstimatedTargets\n",
    "    \"\"\"\n",
    "    error = torch.norm(TargetsAll - EstimatedTargetsAll, 2)\n",
    "    return error"
   ]
  },
  {
   "cell_type": "markdown",
   "metadata": {
    "id": "3xyHDc6rVC3n"
   },
   "source": [
    "## Main function and error graphing by epoch\n",
    "\n",
    "The main function creates the dataset and trains the perceptron, to finally plot the error by epoch."
   ]
  },
  {
   "cell_type": "code",
   "execution_count": 13,
   "metadata": {
    "colab": {
     "base_uri": "https://localhost:8080/",
     "height": 819
    },
    "id": "4YjRc89jVR2X",
    "outputId": "ca13ce0d-811e-4dc1-eb44-a01eb709de7f",
    "scrolled": true
   },
   "outputs": [
    {
     "data": {
      "image/png": "[encoded data removed]",
      "text/plain": [
       "<Figure size 432x288 with 1 Axes>"
      ]
     },
     "metadata": {},
     "output_type": "display_data"
    },
    {
     "name": "stdout",
     "output_type": "stream",
     "text": [
      "norm en forward  tensor(1.7321)\n",
      "coefAprendizaje  0.001\n",
      "0.001\n",
      "tensor(3.7704)\n",
      "norm en forward  tensor(3.7704)\n",
      "Epoch:  0  error:  tensor(28.2843)\n",
      "0.001\n",
      "tensor(1.0382)\n",
      "norm en forward  tensor(1.0382)\n",
      "Epoch:  1  error:  tensor(28.2843)\n",
      "0.001\n",
      "tensor(3.3487)\n",
      "norm en forward  tensor(3.3487)\n",
      "Epoch:  2  error:  tensor(28.2843)\n",
      "norm en forward  tensor(3.3487)\n",
      "Final error with training data\n",
      "tensor(28.2843)\n"
     ]
    },
    {
     "data": {
      "image/png": "[encoded data removed]",
      "text/plain": [
       "<Figure size 432x288 with 1 Axes>"
      ]
     },
     "metadata": {},
     "output_type": "display_data"
    }
   ],
   "source": [
    "\"\"\"\n",
    "Main function\n",
    "\"\"\"\n",
    "def main():\n",
    "    (TargetsAll, SamplesAll) = createData(numberSamplesPerClass = 200, mean1 = [12, 12], mean2 = [18, 18], stds1 = [3, 3], stds2 = [2, 2])    \n",
    "    wOpt = torch.ones(3, 1)\n",
    "    #Evaluar el forward\n",
    "    EstimatedTargets = forward(SamplesAll, wOpt)    \n",
    "    wOpt, errorPerEpoch = estimateOptimumW(TargetsAll, SamplesAll, P = 3, coefAprendizaje = 0.001)    \n",
    "    EstimatedTargetsAll = forward(SamplesAll, wOpt)\n",
    "    print(\"Final error with training data\")\n",
    "    error = evaluateError(TargetsAll, EstimatedTargetsAll)        \n",
    "    print(error)\n",
    "    plt.plot(errorPerEpoch)\n",
    "    plt.ylabel(\"Number of misclassified observations\")\n",
    "    plt.xlabel(\"Epoch\")\n",
    "    plt.show()\n",
    "    \n",
    "    \n",
    "    \n",
    "        \n",
    "main()"
   ]
  },
  {
   "cell_type": "code",
   "execution_count": 5,
   "metadata": {},
   "outputs": [
    {
     "name": "stdout",
     "output_type": "stream",
     "text": [
      "tensor([0, 0, 1, 1, 1], dtype=torch.uint8)\n",
      "tensor([  5,   6, -20, -20, -20])\n"
     ]
    }
   ],
   "source": [
    "a = torch.tensor([5, 6, 7, 8, 9])\n",
    "b = a > 6\n",
    "a[a > 6] = -20\n",
    "print(b)\n",
    "print(a)"
   ]
  },
  {
   "cell_type": "code",
   "execution_count": null,
   "metadata": {
    "id": "N6qtgjMbcVUJ"
   },
   "outputs": [],
   "source": []
  }
 ],
 "metadata": {
  "colab": {
   "name": "Perceptron.ipynb",
   "provenance": []
  },
  "kernelspec": {
   "display_name": "Python 3",
   "language": "python",
   "name": "python3"
  },
  "language_info": {
   "codemirror_mode": {
    "name": "ipython",
    "version": 3
   },
   "file_extension": ".py",
   "mimetype": "text/x-python",
   "name": "python",
   "nbconvert_exporter": "python",
   "pygments_lexer": "ipython3",
   "version": "3.6.5"
  }
 },
 "nbformat": 4,
 "nbformat_minor": 1
}
