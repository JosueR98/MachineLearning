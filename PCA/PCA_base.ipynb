{
 "cells": [
  {
   "cell_type": "code",
   "execution_count": 4,
   "id": "0879aa68",
   "metadata": {},
   "outputs": [
    {
     "name": "stdout",
     "output_type": "stream",
     "text": [
      "X \n",
      "  tensor([[1.0000, 3.0000],\n",
      "        [2.0000, 2.5000],\n",
      "        [3.0000, 3.5000],\n",
      "        [4.0000, 2.6000],\n",
      "        [4.7000, 3.6000]])\n",
      "mean \n",
      " tensor([2.9400, 3.0400])\n",
      "X_mean_substracted \n",
      " tensor([[-1.9400, -0.0400],\n",
      "        [-0.9400, -0.5400],\n",
      "        [ 0.0600,  0.4600],\n",
      "        [ 1.0600, -0.4400],\n",
      "        [ 1.7600,  0.5600]])\n"
     ]
    }
   ],
   "source": [
    "import torch\n",
    "\n",
    "X = torch.tensor([[1, 3], [2, 2.5], [3, 3.5], [4, 2.6], [4.7, 3.6]])\n",
    "print(\"X \\n \", X)\n",
    "\n",
    "mean = torch.mean(X, dim = 0)\n",
    "print(\"mean \\n\", mean)\n",
    "X_mean_substracted = X - mean\n",
    "print(\"X_mean_substracted \\n\", X_mean_substracted)\n"
   ]
  },
  {
   "cell_type": "code",
   "execution_count": null,
   "id": "31fdbf13",
   "metadata": {},
   "outputs": [],
   "source": [
    "import matplotlib.pyplot as plt\n",
    "\n",
    "\n",
    "plt.scatter(X[:, 0], X[:, 1])\n",
    "plt.show()"
   ]
  },
  {
   "cell_type": "code",
   "execution_count": null,
   "id": "0691409e",
   "metadata": {},
   "outputs": [],
   "source": []
  }
 ],
 "metadata": {
  "kernelspec": {
   "display_name": "Python 3 (ipykernel)",
   "language": "python",
   "name": "python3"
  },
  "language_info": {
   "codemirror_mode": {
    "name": "ipython",
    "version": 3
   },
   "file_extension": ".py",
   "mimetype": "text/x-python",
   "name": "python",
   "nbconvert_exporter": "python",
   "pygments_lexer": "ipython3",
   "version": "3.9.13"
  }
 },
 "nbformat": 4,
 "nbformat_minor": 5
}
