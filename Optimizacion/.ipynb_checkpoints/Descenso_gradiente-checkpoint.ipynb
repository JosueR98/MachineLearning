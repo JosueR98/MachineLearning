{
 "cells": [
  {
   "cell_type": "code",
   "execution_count": 1,
   "id": "6219a3f4",
   "metadata": {},
   "outputs": [
    {
     "ename": "TypeError",
     "evalue": "update_x() missing 1 required positional argument: 'evaluate_grad_x_n'",
     "output_type": "error",
     "traceback": [
      "\u001b[1;31m---------------------------------------------------------------------------\u001b[0m",
      "\u001b[1;31mTypeError\u001b[0m                                 Traceback (most recent call last)",
      "\u001b[1;32m~\\AppData\\Local\\Temp/ipykernel_20312/2734141778.py\u001b[0m in \u001b[0;36m<module>\u001b[1;34m\u001b[0m\n\u001b[0;32m     40\u001b[0m     \u001b[0mrun_gradient_descent\u001b[0m\u001b[1;33m(\u001b[0m\u001b[0mevaluate_grad_x\u001b[0m\u001b[1;33m)\u001b[0m\u001b[1;33m\u001b[0m\u001b[1;33m\u001b[0m\u001b[0m\n\u001b[0;32m     41\u001b[0m \u001b[1;33m\u001b[0m\u001b[0m\n\u001b[1;32m---> 42\u001b[1;33m \u001b[0mtest_1\u001b[0m\u001b[1;33m(\u001b[0m\u001b[1;33m)\u001b[0m\u001b[1;33m\u001b[0m\u001b[1;33m\u001b[0m\u001b[0m\n\u001b[0m",
      "\u001b[1;32m~\\AppData\\Local\\Temp/ipykernel_20312/2734141778.py\u001b[0m in \u001b[0;36mtest_1\u001b[1;34m()\u001b[0m\n\u001b[0;32m     34\u001b[0m     \u001b[1;31m#unit test 1\u001b[0m\u001b[1;33m\u001b[0m\u001b[1;33m\u001b[0m\u001b[0m\n\u001b[0;32m     35\u001b[0m     \u001b[0mx_a\u001b[0m \u001b[1;33m=\u001b[0m \u001b[0mtorch\u001b[0m\u001b[1;33m.\u001b[0m\u001b[0mtensor\u001b[0m\u001b[1;33m(\u001b[0m\u001b[1;33m[\u001b[0m\u001b[1;36m10.0\u001b[0m\u001b[1;33m,\u001b[0m \u001b[1;36m0.0001\u001b[0m\u001b[1;33m]\u001b[0m\u001b[1;33m)\u001b[0m\u001b[1;33m\u001b[0m\u001b[1;33m\u001b[0m\u001b[0m\n\u001b[1;32m---> 36\u001b[1;33m     \u001b[0mx_b\u001b[0m \u001b[1;33m=\u001b[0m \u001b[0mupdate_x\u001b[0m\u001b[1;33m(\u001b[0m\u001b[0mx_a\u001b[0m\u001b[1;33m)\u001b[0m\u001b[1;33m\u001b[0m\u001b[1;33m\u001b[0m\u001b[0m\n\u001b[0m\u001b[0;32m     37\u001b[0m     \u001b[0mprint\u001b[0m\u001b[1;33m(\u001b[0m\u001b[0mx_b\u001b[0m\u001b[1;33m)\u001b[0m\u001b[1;33m\u001b[0m\u001b[1;33m\u001b[0m\u001b[0m\n\u001b[0;32m     38\u001b[0m \u001b[1;33m\u001b[0m\u001b[0m\n",
      "\u001b[1;31mTypeError\u001b[0m: update_x() missing 1 required positional argument: 'evaluate_grad_x_n'"
     ]
    }
   ],
   "source": [
    "import torch\n",
    "\n",
    "def evaluate_f(x):\n",
    "    z = x[0]^2 - x[1]^2\n",
    "    \n",
    "def evaluate_grad_x(x_a):\n",
    "    grad_x = torch.tensor([2 *x_a[0], -2*x_a[1] ])\n",
    "    return grad_x\n",
    "\n",
    "\n",
    "\n",
    "def random_init_x():\n",
    "    x_a = torch.tensor([10.0, 0.0001])\n",
    "    return x_a\n",
    "    \n",
    "def update_x(x_t, evaluate_grad_x_n,  alpha = 0.5):\n",
    "    #calculate the gradient in x_t\n",
    "    grad_x = evaluate_grad_x_n(x_t)\n",
    "    #update x, making x(t + 1)\n",
    "    x_t_plus_1 = x_t - alpha * grad_x\n",
    "    return x_t_plus_1\n",
    "\n",
    "def run_gradient_descent(evaluate_grad_x_n, T = 10):\n",
    "    x_0 = random_init_x()\n",
    "    #repeat T times\n",
    "    x_t = x_0\n",
    "    print(\"Iteracion 0 \", x_t)\n",
    "    for i in range(0, T):\n",
    "        x_t = update_x(x_t, evaluate_grad_x_n)\n",
    "        print(\"Iteracion \", i, \" \",  x_t)\n",
    "    return x_t    \n",
    "    \n",
    "def test_1():    \n",
    "    #unit test 1    \n",
    "    x_a = torch.tensor([10.0, 0.0001])\n",
    "    x_b = update_x(x_a)\n",
    "    print(x_b)\n",
    "\n",
    "def test_2():\n",
    "    run_gradient_descent(evaluate_grad_x)\n",
    "\n",
    "test_2()"
   ]
  },
  {
   "cell_type": "code",
   "execution_count": null,
   "id": "08d755b8",
   "metadata": {},
   "outputs": [],
   "source": []
  }
 ],
 "metadata": {
  "kernelspec": {
   "display_name": "Python 3 (ipykernel)",
   "language": "python",
   "name": "python3"
  },
  "language_info": {
   "codemirror_mode": {
    "name": "ipython",
    "version": 3
   },
   "file_extension": ".py",
   "mimetype": "text/x-python",
   "name": "python",
   "nbconvert_exporter": "python",
   "pygments_lexer": "ipython3",
   "version": "3.9.7"
  }
 },
 "nbformat": 4,
 "nbformat_minor": 5
}
