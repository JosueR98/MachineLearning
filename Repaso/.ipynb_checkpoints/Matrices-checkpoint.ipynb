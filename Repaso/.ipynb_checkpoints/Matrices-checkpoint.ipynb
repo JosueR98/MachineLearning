{
 "cells": [
  {
   "cell_type": "markdown",
   "metadata": {
    "colab_type": "text",
    "id": "jYQE37rOc539"
   },
   "source": [
    "# Matrices in pytorch\n",
    "\n",
    "\n",
    "-Dr. Saul Calderon.\n"
   ]
  },
  {
   "cell_type": "markdown",
   "metadata": {
    "colab_type": "text",
    "id": "vGl4eEBfJXGl"
   },
   "source": [
    "# Importing dependencies"
   ]
  },
  {
   "cell_type": "code",
   "execution_count": 2,
   "metadata": {
    "colab": {
     "base_uri": "https://localhost:8080/",
     "height": 52
    },
    "colab_type": "code",
    "id": "cmUdHykmJXGm",
    "outputId": "27501b42-f7ee-433a-831f-160bec000d12"
   },
   "outputs": [
    {
     "name": "stdout",
     "output_type": "stream",
     "text": [
      "A shape  torch.Size([2, 4])\n",
      "A before \n",
      "  tensor([[ 4.0000,  9.3000,  3.7000,  5.1000],\n",
      "        [-2.0000, 10.0000,  8.3000,  7.3000]])\n",
      "tensor([[ 1.0000,  1.0000,  1.0000,  1.0000],\n",
      "        [-2.0000, 10.0000,  8.3000,  7.3000]])\n"
     ]
    }
   ],
   "source": [
    "# Since Collab is being used, it is necessary to install Pytorch\n",
    "\n",
    "import torch as torch\n",
    "\n",
    "import numpy as np\n",
    "from matplotlib import pyplot as plt\n",
    "from mpl_toolkits.mplot3d import Axes3D\n",
    "from matplotlib import cm\n",
    "\n",
    "A = torch.tensor([[4.0, 9.3, 3.7, 5.1], [-2.0, 10, 8.3, 7.3]], dtype = torch.float)\n",
    "\n",
    "\n",
    "print(\"A shape \", A.shape)\n",
    "print(\"A before \\n \", A)\n",
    "A[0, :] = 1\n",
    "\n",
    "print(A)\n"
   ]
  },
  {
   "cell_type": "code",
   "execution_count": 4,
   "metadata": {},
   "outputs": [
    {
     "name": "stdout",
     "output_type": "stream",
     "text": [
      "B \n",
      "  tensor([[False, False, False, False],\n",
      "        [False,  True,  True,  True]])\n",
      "A \n",
      " tensor([[   1.,    1.,    1.,    1.],\n",
      "        [   0., 1000., 1000., 1000.]])\n"
     ]
    }
   ],
   "source": [
    "B = A > 5\n",
    "print(\"B \\n \", B)\n",
    "\n",
    "#indexacion logica\n",
    "A[B] = 1000\n",
    "print(\"A \\n\", A)"
   ]
  },
  {
   "cell_type": "markdown",
   "metadata": {},
   "source": [
    "## Mode"
   ]
  },
  {
   "cell_type": "code",
   "execution_count": 22,
   "metadata": {},
   "outputs": [
    {
     "name": "stdout",
     "output_type": "stream",
     "text": [
      "torch.return_types.mode(\n",
      "values=tensor(3),\n",
      "indices=tensor(3))\n"
     ]
    }
   ],
   "source": [
    "A = torch.tensor([2, 3, 3, 3, 1])\n",
    "print(A.mode())"
   ]
  },
  {
   "cell_type": "markdown",
   "metadata": {},
   "source": [
    "## Modifying the shape of a tensor"
   ]
  },
  {
   "cell_type": "code",
   "execution_count": 9,
   "metadata": {},
   "outputs": [
    {
     "name": "stdout",
     "output_type": "stream",
     "text": [
      "A shape  torch.Size([1, 3])\n",
      "a shape  torch.Size([3])\n",
      "a  tensor([0.3518, 0.8506, 0.9581, 0.2364])\n",
      "A \n",
      "  tensor([[0.3518, 0.8506],\n",
      "        [0.9581, 0.2364]])\n"
     ]
    }
   ],
   "source": [
    "A = torch.tensor([[1, 2, 4]])\n",
    "print(\"A shape \", A.shape)\n",
    "a = A.squeeze()\n",
    "print(\"a shape \", a.shape)\n",
    "\n",
    "a = torch.rand(4)\n",
    "print(\"a \", a)\n",
    "A = a.view(2, 2)\n",
    "print(\"A \\n \", A)\n",
    "\n"
   ]
  },
  {
   "cell_type": "markdown",
   "metadata": {
    "colab_type": "text",
    "id": "8chJbeF0dXmO"
   },
   "source": [
    "# Matrices for rewriting equations and functions\n",
    "\n",
    "The following equation system:\n",
    "$$\\begin{array}{c}\n",
    "4x_{1}-5x_{2}=-13\\\\\n",
    "-2x_{1}+3x_{2}=9\n",
    "\\end{array}$$\n",
    "can be rewritten interms of vectors and matrices as follows:\n",
    "$$A\\,\\vec{x}=\\overrightarrow{b}\\Rightarrow\\vec{x}=A^{-1}\\overrightarrow{b}$$\n"
   ]
  },
  {
   "cell_type": "code",
   "execution_count": 5,
   "metadata": {
    "colab": {
     "base_uri": "https://localhost:8080/",
     "height": 52
    },
    "colab_type": "code",
    "id": "iyuBQcxGdXmP",
    "outputId": "62197fe5-b093-424d-9961-01071b2c41af"
   },
   "outputs": [
    {
     "ename": "RuntimeError",
     "evalue": "Lapack Error getrf : U(2,2) is 0, U is singular at c:\\programdata\\miniconda3\\conda-bld\\pytorch-cpu_1532498166916\\work\\aten\\src\\th\\generic/THTensorLapack.cpp:523",
     "output_type": "error",
     "traceback": [
      "\u001b[1;31m---------------------------------------------------------------------------\u001b[0m",
      "\u001b[1;31mRuntimeError\u001b[0m                              Traceback (most recent call last)",
      "\u001b[1;32m<ipython-input-5-3738715a79c0>\u001b[0m in \u001b[0;36m<module>\u001b[1;34m()\u001b[0m\n\u001b[0;32m     24\u001b[0m \u001b[1;33m\u001b[0m\u001b[0m\n\u001b[0;32m     25\u001b[0m \u001b[1;33m\u001b[0m\u001b[0m\n\u001b[1;32m---> 26\u001b[1;33m \u001b[0mtestSolveEquationSystem2\u001b[0m\u001b[1;33m(\u001b[0m\u001b[1;33m)\u001b[0m\u001b[1;33m\u001b[0m\u001b[0m\n\u001b[0m\u001b[0;32m     27\u001b[0m \u001b[1;33m\u001b[0m\u001b[0m\n",
      "\u001b[1;32m<ipython-input-5-3738715a79c0>\u001b[0m in \u001b[0;36mtestSolveEquationSystem2\u001b[1;34m()\u001b[0m\n\u001b[0;32m     19\u001b[0m     \u001b[1;31m#create a 2d tensor even for vectors, to avoid to create 1dtensor type creation\u001b[0m\u001b[1;33m\u001b[0m\u001b[1;33m\u001b[0m\u001b[0m\n\u001b[0;32m     20\u001b[0m     \u001b[0mb\u001b[0m \u001b[1;33m=\u001b[0m \u001b[0mtorch\u001b[0m\u001b[1;33m.\u001b[0m\u001b[0mtensor\u001b[0m\u001b[1;33m(\u001b[0m\u001b[1;33m[\u001b[0m\u001b[1;33m[\u001b[0m\u001b[1;33m-\u001b[0m\u001b[1;36m13.0\u001b[0m\u001b[1;33m]\u001b[0m\u001b[1;33m,\u001b[0m \u001b[1;33m[\u001b[0m\u001b[1;36m9.0\u001b[0m\u001b[1;33m]\u001b[0m\u001b[1;33m]\u001b[0m\u001b[1;33m)\u001b[0m\u001b[1;33m\u001b[0m\u001b[0m\n\u001b[1;32m---> 21\u001b[1;33m     \u001b[0mAinv\u001b[0m \u001b[1;33m=\u001b[0m \u001b[0mA\u001b[0m\u001b[1;33m.\u001b[0m\u001b[0minverse\u001b[0m\u001b[1;33m(\u001b[0m\u001b[1;33m)\u001b[0m\u001b[1;33m\u001b[0m\u001b[0m\n\u001b[0m\u001b[0;32m     22\u001b[0m     \u001b[0mx\u001b[0m \u001b[1;33m=\u001b[0m \u001b[0mAinv\u001b[0m\u001b[1;33m.\u001b[0m\u001b[0mmm\u001b[0m\u001b[1;33m(\u001b[0m\u001b[0mb\u001b[0m\u001b[1;33m)\u001b[0m\u001b[1;33m\u001b[0m\u001b[0m\n\u001b[0;32m     23\u001b[0m     \u001b[0mprint\u001b[0m\u001b[1;33m(\u001b[0m\u001b[0mx\u001b[0m\u001b[1;33m)\u001b[0m\u001b[1;33m\u001b[0m\u001b[0m\n",
      "\u001b[1;31mRuntimeError\u001b[0m: Lapack Error getrf : U(2,2) is 0, U is singular at c:\\programdata\\miniconda3\\conda-bld\\pytorch-cpu_1532498166916\\work\\aten\\src\\th\\generic/THTensorLapack.cpp:523"
     ]
    }
   ],
   "source": [
    "\n",
    "def testSolveEquationSystem1():\n",
    "    \"\"\"\n",
    "    Solve an equation system with one solution\n",
    "    \"\"\"\n",
    "    A = torch.tensor([[4.0, -5.0], [-2.0, 3.0]])\n",
    "    #create a 2d tensor even for vectors, to avoid to create 1dtensor type creation\n",
    "    b = torch.tensor([[-13.0], [9.0]])\n",
    "    Ainv = A.inverse()\n",
    "    x = Ainv.mm(b)\n",
    "    print(x)\n",
    "    \n",
    "\n",
    "def testSolveEquationSystem2():\n",
    "    \"\"\"\n",
    "    Solve an equation system with multiple solutions (one row is linear combination of the other)\n",
    "    \"\"\"\n",
    "    A = torch.tensor([[4.0, -5.0], [8.0, -10.0]])\n",
    "    #create a 2d tensor even for vectors, to avoid to create 1dtensor type creation\n",
    "    b = torch.tensor([[-13.0], [9.0]])\n",
    "    Ainv = A.inverse()\n",
    "    x = Ainv.mm(b)\n",
    "    print(x)\n",
    "    \n",
    "    \n",
    "testSolveEquationSystem2()\n",
    "    "
   ]
  },
  {
   "cell_type": "markdown",
   "metadata": {
    "colab_type": "text",
    "id": "YLhkAv72JXG7"
   },
   "source": [
    "## Matrix indexing and concatenation\n",
    "Tensors can be indexed using the slicing operators, and concatenated using the function cat"
   ]
  },
  {
   "cell_type": "code",
   "execution_count": 12,
   "metadata": {
    "colab": {
     "base_uri": "https://localhost:8080/",
     "height": 193
    },
    "colab_type": "code",
    "id": "REcpB5fXdXmk",
    "outputId": "ad7f2a92-d6fa-4466-81f1-43788b90cdca"
   },
   "outputs": [
    {
     "name": "stdout",
     "output_type": "stream",
     "text": [
      "dims A torch.Size([2, 3])\n",
      "A_0,0 1\n",
      "Segunda fila de A:  tensor([10, 20])\n",
      "A \n",
      ": tensor([[ 1,  2,  3],\n",
      "        [10, 20, 30]])\n",
      "C: \n",
      "  tensor([[ 1,  2,  3,  1,  2,  3],\n",
      "        [10, 20, 30, 10, 20, 30]])\n"
     ]
    }
   ],
   "source": [
    "# Dot product of matrices doesnt exist for 2D Tensors\n",
    "A = torch.tensor([[1, 2, 3],[10, 20, 30]])\n",
    "B = torch.tensor([[5, 5],[6, 6],[7, 7]])\n",
    "\n",
    "print(\"dims A\", A.shape)\n",
    "print(\"A_0,0\", A[0,0].item())\n",
    "#slicing\n",
    "print(\"Segunda fila de A: \", A[1,0:2])\n",
    "print(\"A \\n:\", A)\n",
    "\n",
    "#WE RECOMMEND ALWAYS USE 2D TENSORS, EVEN IF IT IS A VECTOR\n",
    "#dotProduct = A.dot(B) it doesnt work, it is defined for 1D tensors only. \n",
    "#SOME OPERATORS ARE DEFINED FOR 1D TENSORS ONLY, AND SOME OF THEM ARE DEFINED FOR 2D TENSORS\n",
    "\n"
   ]
  },
  {
   "cell_type": "code",
   "execution_count": 6,
   "metadata": {},
   "outputs": [
    {
     "name": "stdout",
     "output_type": "stream",
     "text": [
      "A \n",
      "  tensor([[ 1,  2,  3],\n",
      "        [10, 20, 30]])\n",
      "C: \n",
      "  tensor([[ 1,  2,  3,  1,  2,  3],\n",
      "        [10, 20, 30, 10, 20, 30]])\n"
     ]
    }
   ],
   "source": [
    "#Create a matrix C, concatenating the matrix A along its rows\n",
    "A = torch.tensor([[1, 2, 3],[10, 20, 30]])\n",
    "\n",
    "print(\"A \\n \", A)\n",
    "C = torch.cat((A, A), 1)\n",
    "\n",
    "print(\"C: \\n \", C)"
   ]
  },
  {
   "cell_type": "code",
   "execution_count": 28,
   "metadata": {},
   "outputs": [
    {
     "name": "stdout",
     "output_type": "stream",
     "text": [
      "C despues de indexacion logica y mod. \n",
      "  tensor([[ 1,  0,  0,  1,  2,  3],\n",
      "        [10, 20,  5, 10, 20,  5]])\n",
      "Matriz de indices logicos: \n",
      "  tensor([[False, False, False, False, False, False],\n",
      "        [ True, False,  True,  True, False,  True]])\n"
     ]
    },
    {
     "name": "stderr",
     "output_type": "stream",
     "text": [
      "C:\\Users\\saul1\\AppData\\Local\\Temp/ipykernel_20256/2251813912.py:3: UserWarning: To copy construct from a tensor, it is recommended to use sourceTensor.clone().detach() or sourceTensor.clone().detach().requires_grad_(True), rather than torch.tensor(sourceTensor).\n",
      "  D = torch.tensor(C > 3) * torch.tensor(C <= 10)\n"
     ]
    }
   ],
   "source": [
    "C[C > 20] = 5\n",
    "print(\"C despues de indexacion logica y mod. \\n \", C)\n",
    "D = torch.tensor(C > 3) * torch.tensor(C <= 10) \n",
    "print(\"Matriz de indices logicos: \\n \", D)\n"
   ]
  },
  {
   "cell_type": "code",
   "execution_count": 15,
   "metadata": {},
   "outputs": [
    {
     "name": "stdout",
     "output_type": "stream",
     "text": [
      "Indexacion logica \n",
      " tensor([[False, False, False],\n",
      "        [False, False, False]])\n",
      "A \n",
      " tensor([[  1,   2, -10],\n",
      "        [  1,   2, -10]])\n"
     ]
    },
    {
     "ename": "RuntimeError",
     "evalue": "Sizes of tensors must match except in dimension 0. Expected size 3 but got size 4 for tensor number 1 in the list.",
     "output_type": "error",
     "traceback": [
      "\u001b[1;31m---------------------------------------------------------------------------\u001b[0m",
      "\u001b[1;31mRuntimeError\u001b[0m                              Traceback (most recent call last)",
      "\u001b[1;32m~\\AppData\\Local\\Temp/ipykernel_4544/1825927701.py\u001b[0m in \u001b[0;36m<module>\u001b[1;34m\u001b[0m\n\u001b[0;32m      6\u001b[0m \u001b[0mprint\u001b[0m\u001b[1;33m(\u001b[0m\u001b[1;34m\"A \\n\"\u001b[0m\u001b[1;33m,\u001b[0m \u001b[0mA\u001b[0m\u001b[1;33m)\u001b[0m\u001b[1;33m\u001b[0m\u001b[1;33m\u001b[0m\u001b[0m\n\u001b[0;32m      7\u001b[0m \u001b[1;31m#Create a matrix C, concatenating the matrix A along its rows\u001b[0m\u001b[1;33m\u001b[0m\u001b[1;33m\u001b[0m\u001b[0m\n\u001b[1;32m----> 8\u001b[1;33m \u001b[0mC\u001b[0m \u001b[1;33m=\u001b[0m \u001b[0mtorch\u001b[0m\u001b[1;33m.\u001b[0m\u001b[0mcat\u001b[0m\u001b[1;33m(\u001b[0m\u001b[1;33m(\u001b[0m\u001b[0mA\u001b[0m\u001b[1;33m,\u001b[0m \u001b[0mB\u001b[0m\u001b[1;33m)\u001b[0m\u001b[1;33m,\u001b[0m \u001b[1;36m0\u001b[0m\u001b[1;33m)\u001b[0m\u001b[1;33m\u001b[0m\u001b[1;33m\u001b[0m\u001b[0m\n\u001b[0m\u001b[0;32m      9\u001b[0m \u001b[0mprint\u001b[0m\u001b[1;33m(\u001b[0m\u001b[1;34m\"C\\n \"\u001b[0m\u001b[1;33m,\u001b[0m \u001b[0mC\u001b[0m\u001b[1;33m)\u001b[0m\u001b[1;33m\u001b[0m\u001b[1;33m\u001b[0m\u001b[0m\n",
      "\u001b[1;31mRuntimeError\u001b[0m: Sizes of tensors must match except in dimension 0. Expected size 3 but got size 4 for tensor number 1 in the list."
     ]
    }
   ],
   "source": [
    "A = torch.tensor([[1, 2, 3],[1, 2, 3]])\n",
    "B = torch.tensor([[1, 1, 10]])\n",
    "\n",
    "print(\"Indexacion logica \\n\", A > 5)\n",
    "A[A > 2] = -10\n",
    "print(\"A \\n\", A)\n",
    "#Create a matrix C, concatenating the matrix A along its rows\n",
    "C = torch.cat((A, B), 0)\n",
    "print(\"C\\n \", C)\n"
   ]
  },
  {
   "cell_type": "markdown",
   "metadata": {
    "colab_type": "text",
    "id": "3uCtcT9FFQ_X"
   },
   "source": [
    "## Identity matrix and other useful matrices"
   ]
  },
  {
   "cell_type": "code",
   "execution_count": 8,
   "metadata": {},
   "outputs": [
    {
     "name": "stdout",
     "output_type": "stream",
     "text": [
      "tensor([[1., 0., 0.],\n",
      "        [0., 1., 0.],\n",
      "        [0., 0., 1.]])\n",
      "M diagonal \n",
      " tensor([[6., 0., 0.],\n",
      "        [0., 6., 0.],\n",
      "        [0., 0., 6.]])\n"
     ]
    }
   ],
   "source": [
    "# Create an identity matrix\n",
    "Identity = torch.eye(3)\n",
    "print(Identity)\n",
    "M_diagonal = 6 * Identity\n",
    "print(\"M diagonal \\n\", M_diagonal)"
   ]
  },
  {
   "cell_type": "code",
   "execution_count": 10,
   "metadata": {},
   "outputs": [
    {
     "name": "stdout",
     "output_type": "stream",
     "text": [
      "zeros  tensor([[0., 0., 0.],\n",
      "        [0., 0., 0.],\n",
      "        [0., 0., 0.]])\n"
     ]
    }
   ],
   "source": [
    "#zeroes matrix\n",
    "ZerosM = torch.zeros(3,3)\n",
    "print(\"zeros \", ZerosM)"
   ]
  },
  {
   "cell_type": "code",
   "execution_count": 11,
   "metadata": {},
   "outputs": [
    {
     "name": "stdout",
     "output_type": "stream",
     "text": [
      "ones: \n",
      " tensor([[1., 1., 1., 1., 1.],\n",
      "        [1., 1., 1., 1., 1.],\n",
      "        [1., 1., 1., 1., 1.],\n",
      "        [1., 1., 1., 1., 1.],\n",
      "        [1., 1., 1., 1., 1.]])\n"
     ]
    }
   ],
   "source": [
    "#ones matrix\n",
    "OnesM = torch.ones(5,5)\n",
    "print(\"ones: \\n\", OnesM)"
   ]
  },
  {
   "cell_type": "code",
   "execution_count": 12,
   "metadata": {},
   "outputs": [
    {
     "name": "stdout",
     "output_type": "stream",
     "text": [
      "A:\n",
      " tensor([[0.0875, 0.8943, 0.5903],\n",
      "        [0.6164, 0.9359, 0.8407],\n",
      "        [0.6539, 0.1726, 0.8529]])\n",
      "B:\n",
      "  tensor([[0.5027, 0.6374, 0.6634],\n",
      "        [0.2761, 0.1711, 0.3197],\n",
      "        [0.4316, 0.2748, 0.3037]])\n"
     ]
    }
   ],
   "source": [
    "A = torch.rand(3,3)\n",
    "B = torch.rand(3,3)\n",
    "print(\"A:\\n\", A)\n",
    "print(\"B:\\n \", B)"
   ]
  },
  {
   "cell_type": "code",
   "execution_count": 25,
   "metadata": {
    "colab": {
     "base_uri": "https://localhost:8080/",
     "height": 105
    },
    "colab_type": "code",
    "id": "yqk8N_AeFRFX",
    "outputId": "4d09f4e9-2075-4018-ca65-478c2ee3077d"
   },
   "outputs": [
    {
     "name": "stdout",
     "output_type": "stream",
     "text": [
      "Identity \n",
      " tensor([[1., 0., 0., 0., 0.],\n",
      "        [0., 1., 0., 0., 0.],\n",
      "        [0., 0., 1., 0., 0.],\n",
      "        [0., 0., 0., 1., 0.],\n",
      "        [0., 0., 0., 0., 1.]])\n",
      "zeros  tensor([[0., 0., 0.],\n",
      "        [0., 0., 0.],\n",
      "        [0., 0., 0.]])\n",
      "ones:  tensor([[1., 1., 1., 1., 1.],\n",
      "        [1., 1., 1., 1., 1.],\n",
      "        [1., 1., 1., 1., 1.],\n",
      "        [1., 1., 1., 1., 1.],\n",
      "        [1., 1., 1., 1., 1.]])\n",
      "res1 \n",
      " tensor([[5., 5., 5., 5., 5.],\n",
      "        [5., 5., 5., 5., 5.],\n",
      "        [5., 5., 5., 5., 5.],\n",
      "        [5., 5., 5., 5., 5.],\n",
      "        [5., 5., 5., 5., 5.]])\n",
      "res2 \n",
      " tensor([[25., 25., 25., 25., 25.],\n",
      "        [25., 25., 25., 25., 25.],\n",
      "        [25., 25., 25., 25., 25.],\n",
      "        [25., 25., 25., 25., 25.],\n",
      "        [25., 25., 25., 25., 25.]])\n",
      "A:\n",
      " tensor([[0.0231, 0.1686, 0.8612],\n",
      "        [0.5139, 0.1772, 0.2737],\n",
      "        [0.3146, 0.1714, 0.9353]])\n",
      "B:\n",
      "  tensor([[0.9840, 0.8096, 0.9975],\n",
      "        [0.2652, 0.1226, 0.0298],\n",
      "        [0.2585, 0.7882, 0.4576]])\n",
      "A + B: \n",
      " tensor([[1.0071, 0.9783, 1.8587],\n",
      "        [0.7791, 0.2998, 0.3036],\n",
      "        [0.5731, 0.9596, 1.3929]])\n"
     ]
    }
   ],
   "source": [
    "#Identity is the mult. neutral operand\n",
    "Res1 = 5 * OnesM.mm(Identity)\n",
    "print(\"res1 \\n\", Res1)\n",
    "Res2 = 5 * OnesM.mm(OnesM)\n",
    "print(\"res2 \\n\", Res2)\n",
    "\n",
    "#Adding and substracting matrices\n",
    "A = torch.rand(3,3)\n",
    "B = torch.rand(3,3)\n",
    "print(\"A:\\n\", A)\n",
    "print(\"B:\\n \", B)\n",
    "print(\"A + B: \\n\", A + B)\n",
    "\n",
    "\n"
   ]
  },
  {
   "cell_type": "markdown",
   "metadata": {
    "colab_type": "text",
    "id": "LDRQBcuic54b"
   },
   "source": [
    "## Matrix Transpose\n",
    "The transpose operation is only defined for 2D tensors"
   ]
  },
  {
   "cell_type": "code",
   "execution_count": 17,
   "metadata": {},
   "outputs": [
    {
     "name": "stdout",
     "output_type": "stream",
     "text": [
      "Original matrix: \n",
      " tensor([[0.4070, 0.9989, 0.1941],\n",
      "        [0.7208, 0.6863, 0.3893],\n",
      "        [0.5388, 0.8234, 0.2527]])\n",
      "Transposed Matrix \n",
      " tensor([[0.4070, 0.7208, 0.5388],\n",
      "        [0.9989, 0.6863, 0.8234],\n",
      "        [0.1941, 0.3893, 0.2527]])\n"
     ]
    }
   ],
   "source": [
    "#Matrix transpose\n",
    "A_mat = torch.rand(3,3)\n",
    "print(\"Original matrix: \\n\", A_mat)\n",
    "A_mat_trans = A_mat.transpose(0, 1)\n",
    "print(\"Transposed Matrix \\n\", A_mat_trans)\n",
    "\n"
   ]
  },
  {
   "cell_type": "code",
   "execution_count": 19,
   "metadata": {
    "colab": {
     "base_uri": "https://localhost:8080/",
     "height": 122
    },
    "colab_type": "code",
    "id": "pCyH9GOCvxBk",
    "outputId": "6c9f01b3-f3ba-4a11-c1b3-59decc725c7b"
   },
   "outputs": [
    {
     "name": "stdout",
     "output_type": "stream",
     "text": [
      "Type 1D tensor:  torch.LongTensor torch.Size([3])\n",
      "Type 2D Tensor  torch.LongTensor torch.Size([1, 3])\n",
      "row vector  tensor([[1, 2, 3]])\n"
     ]
    },
    {
     "ename": "IndexError",
     "evalue": "Dimension out of range (expected to be in range of [-1, 0], but got 1)",
     "output_type": "error",
     "traceback": [
      "\u001b[1;31m---------------------------------------------------------------------------\u001b[0m",
      "\u001b[1;31mIndexError\u001b[0m                                Traceback (most recent call last)",
      "\u001b[1;32m~\\AppData\\Local\\Temp/ipykernel_4544/4269054934.py\u001b[0m in \u001b[0;36m<module>\u001b[1;34m\u001b[0m\n\u001b[0;32m     14\u001b[0m \u001b[1;31m#transpose receives the first dim0 to switch, and the second dim1 to swap, usually 0,1 is the order\u001b[0m\u001b[1;33m\u001b[0m\u001b[1;33m\u001b[0m\u001b[0m\n\u001b[0;32m     15\u001b[0m \u001b[0mwDrowT\u001b[0m \u001b[1;33m=\u001b[0m \u001b[0mw2Drow\u001b[0m\u001b[1;33m.\u001b[0m\u001b[0mtranspose\u001b[0m\u001b[1;33m(\u001b[0m\u001b[1;36m0\u001b[0m\u001b[1;33m,\u001b[0m \u001b[1;36m1\u001b[0m\u001b[1;33m)\u001b[0m\u001b[1;33m\u001b[0m\u001b[1;33m\u001b[0m\u001b[0m\n\u001b[1;32m---> 16\u001b[1;33m \u001b[0mw\u001b[0m\u001b[1;33m.\u001b[0m\u001b[0mtranspose\u001b[0m\u001b[1;33m(\u001b[0m\u001b[1;36m0\u001b[0m\u001b[1;33m,\u001b[0m\u001b[1;36m1\u001b[0m\u001b[1;33m)\u001b[0m\u001b[1;33m\u001b[0m\u001b[1;33m\u001b[0m\u001b[0m\n\u001b[0m\u001b[0;32m     17\u001b[0m \u001b[0mprint\u001b[0m\u001b[1;33m(\u001b[0m\u001b[1;34m\"wDrowT \\n \"\u001b[0m\u001b[1;33m,\u001b[0m \u001b[0mwDrowT\u001b[0m\u001b[1;33m)\u001b[0m\u001b[1;33m\u001b[0m\u001b[1;33m\u001b[0m\u001b[0m\n",
      "\u001b[1;31mIndexError\u001b[0m: Dimension out of range (expected to be in range of [-1, 0], but got 1)"
     ]
    }
   ],
   "source": [
    "#Transpose cannot work with 1D tensors\n",
    "w = torch.tensor([1, 2, 3])\n",
    "#check tensor type\n",
    "print(\"Type 1D tensor: \", w.type(), w.shape)\n",
    "\n",
    "\n",
    "\n",
    "#row vector in 2D tensor\n",
    "w2Drow = w.reshape(-1, w.shape[0])\n",
    "print(\"Type 2D Tensor \", w2Drow.type(), w2Drow.shape)\n",
    "\n",
    "print(\"row vector \", w2Drow)\n",
    "\n",
    "#transpose receives the first dim0 to switch, and the second dim1 to swap, usually 0,1 is the order\n",
    "wDrowT = w2Drow.transpose(0, 1)\n",
    "\n",
    "print(\"wDrowT \\n \", wDrowT)\n"
   ]
  },
  {
   "cell_type": "markdown",
   "metadata": {
    "colab_type": "text",
    "id": "7r57RI2mJXHR"
   },
   "source": [
    "## Symmetric Matrices\n",
    "A squared matrix is symmetric if  $A=A^{T}$"
   ]
  },
  {
   "cell_type": "code",
   "execution_count": 20,
   "metadata": {
    "colab": {
     "base_uri": "https://localhost:8080/",
     "height": 210
    },
    "colab_type": "code",
    "id": "Isg_C_afJXHR",
    "outputId": "61e83731-e7a3-4bbd-e238-5b395f01cff8"
   },
   "outputs": [
    {
     "name": "stdout",
     "output_type": "stream",
     "text": [
      "Sym1 \n",
      " tensor([[ 35,  64,  19],\n",
      "        [ 64, 134,  47],\n",
      "        [ 19,  47,  21]])\n",
      "tensor(True)\n"
     ]
    }
   ],
   "source": [
    "def isSymmetric(A):\n",
    "    \"\"\"\n",
    "    A: input matrix\n",
    "    \"\"\"\n",
    "    At = A.transpose(0, 1)\n",
    "    return (torch.all(A.eq(At)))\n",
    "        \n",
    "#check wether the external product of the same vector is symmetric\n",
    "B = torch.tensor([[1, 5, 3], [2, 7, 9], [2, 1, 4]])\n",
    "Bt = B.transpose(0, 1)\n",
    "\n",
    "Sym1 = B.mm(Bt)\n",
    "print(\"Sym1 \\n\", Sym1)\n",
    "\n",
    "print(isSymmetric(Sym1))\n",
    " \n",
    "    "
   ]
  },
  {
   "cell_type": "code",
   "execution_count": null,
   "metadata": {},
   "outputs": [],
   "source": [
    "\n",
    "C = torch.tensor([[3, 4, 4], [5, 6, 7], [4, 5, 6]])\n",
    "Ct = C.transpose(0, 1)\n",
    "Sym2 = C + Ct\n",
    "print(\"Sym2\")\n",
    "print(Sym2)\n",
    "print(isSymmetric(Sym2))\n",
    "\n",
    "\n",
    "\n",
    "isSymmetric(externalProduct2)  "
   ]
  },
  {
   "cell_type": "markdown",
   "metadata": {
    "colab_type": "text",
    "id": "W26r-trbc540"
   },
   "source": [
    "## Element wise multiplication of matrices\n",
    "\n",
    "The element wise multiplication of matrices A and B result in a matrix C with same dimensions, and multiplies its entries.\n"
   ]
  },
  {
   "cell_type": "code",
   "execution_count": 5,
   "metadata": {
    "colab": {
     "base_uri": "https://localhost:8080/",
     "height": 70
    },
    "colab_type": "code",
    "id": "3m3ZPiEhkkmm",
    "outputId": "0580cb90-5f8d-4431-f5e0-c3c6d72e6d1b"
   },
   "outputs": [
    {
     "name": "stdout",
     "output_type": "stream",
     "text": [
      "tensor([[ 5, 12],\n",
      "        [21,  0]])\n",
      "Dot product:  tensor(38)\n"
     ]
    }
   ],
   "source": [
    "import torch\n",
    "A = torch.tensor([[1, 2], [3, 0]])\n",
    "B = torch.tensor([[5, 6], [7, 0]])\n",
    "C = A * B\n",
    "print(C)\n",
    "#Element wise multiplication allows us to calculate dot product of matrices\n",
    "dotProduct = C.sum()\n",
    "\n",
    "print(\"Dot product: \", dotProduct)"
   ]
  },
  {
   "cell_type": "markdown",
   "metadata": {},
   "source": [
    "## Trace of a matrix\n",
    "Implement the calculation of the trace of a matrix without using fors"
   ]
  },
  {
   "cell_type": "code",
   "execution_count": 25,
   "metadata": {},
   "outputs": [
    {
     "name": "stdout",
     "output_type": "stream",
     "text": [
      "D\n",
      "  tensor([[1., 0., 0.],\n",
      "        [0., 7., 0.],\n",
      "        [0., 0., 2.]])\n",
      "trace A tensor(10.)\n"
     ]
    }
   ],
   "source": [
    "def calculate_trace(A):\n",
    "    I_n = torch.eye(A.shape[0])\n",
    "    D = I_n * A\n",
    "    print(\"D\\n \", D)\n",
    "    return torch.sum(D)\n",
    "\n",
    "A = torch.tensor([[1, 3, 5.0], [3.0, 7, 9], [9.0, 3.0, 2.0]])\n",
    "trace_A = calculate_trace(A)\n",
    "print(\"trace A\", trace_A)"
   ]
  },
  {
   "cell_type": "code",
   "execution_count": 24,
   "metadata": {},
   "outputs": [
    {
     "name": "stdout",
     "output_type": "stream",
     "text": [
      "D  tensor([[ 65.,  75.],\n",
      "        [205., 255.]])\n",
      "Multiplicacion element wise \n",
      " tensor([[ 1.,  4.,  9.],\n",
      "        [25., 36., 49.]])\n"
     ]
    }
   ],
   "source": [
    "R = torch.tensor([[1, 2.0, 3], [5, 6, 7]])\n",
    "G = torch.tensor([[10, 20.0], [20.0, 20.0], [5.0, 5.0]])\n",
    "D = R.mm(G)\n",
    "print(\"D \", D)\n",
    "D_mul_element_wise = R * R\n",
    "print(\"Multiplicacion element wise \\n\", D_mul_element_wise)\n",
    "\n"
   ]
  },
  {
   "cell_type": "markdown",
   "metadata": {
    "colab_type": "text",
    "id": "LWlnjvm5dXmn"
   },
   "source": [
    "## Matrix flatenning\n",
    "Matrix flatenning refers to create a column or row vector with all the elements within a matrix.\n",
    "See more at http://deeplizard.com/learn/video/fCVuiW9AFzY"
   ]
  },
  {
   "cell_type": "code",
   "execution_count": 33,
   "metadata": {
    "colab": {
     "base_uri": "https://localhost:8080/",
     "height": 175
    },
    "colab_type": "code",
    "id": "KnmH1QerdXmo",
    "outputId": "764f51ef-5c16-4f3b-cd2f-6c85b0d3c671"
   },
   "outputs": [
    {
     "name": "stdout",
     "output_type": "stream",
     "text": [
      "A original \n",
      " tensor([[ 1,  2,  3],\n",
      "        [ 6, 24, 32]])\n",
      "A reshaped \n",
      "  tensor([[ 1],\n",
      "        [ 2],\n",
      "        [ 3],\n",
      "        [ 6],\n",
      "        [24],\n",
      "        [32]])\n",
      "Afs \n",
      "  tensor([ 1,  2,  3,  6, 24, 32])\n"
     ]
    }
   ],
   "source": [
    "A = torch.tensor([[1, 2, 3],[6, 24, 32]])\n",
    "print(\"A original \\n\", A)\n",
    "\n",
    "Af= A.reshape(A.shape[0] * A.shape[1], -1)\n",
    "print(\"A reshaped \\n \", Af)\n",
    "\n",
    "#if we want to remove one dimension of the tensor, we can use squeeze, transforming from 2D to 1D tensor\n",
    "Afs = Af.squeeze()\n",
    "print(\"Afs \\n \", Afs)\n",
    "\n"
   ]
  },
  {
   "cell_type": "markdown",
   "metadata": {
    "colab_type": "text",
    "id": "2LuIU2gKc54q"
   },
   "source": [
    "## Matrix multiplication\n",
    "\n",
    "Product of two matrices $A\\in\\mathbb{R}^{m\\times n}$ and $B\\in\\mathbb{R}^{n\\times p}$ is given by:\n",
    "$$\n",
    "C=A\\,B=\\begin{bmatrix}- & \\vec{a}_{1,:}^{T} & -\\\\\n",
    "- & \\vec{a}_{2,:}^{T} & -\\\\\n",
    " & \\vdots\\\\\n",
    "- & \\vec{a}_{m,:}^{T} & -\n",
    "\\end{bmatrix}\\,\\begin{bmatrix}| & | & \\ldots & |\\\\\n",
    "\\vec{b}_{1,:} & \\vec{b}_{2,:} & \\ldots & \\vec{b}_{p,:}\\\\\n",
    "| & | & \\ldots & |\n",
    "\\end{bmatrix}=\\begin{bmatrix}\\vec{a}_{1,:}^{T}\\vec{b}_{1,:} & \\vec{a}_{1,:}^{T}\\vec{b}_{2,:} & \\cdots & \\vec{a}_{1,:}^{T}\\vec{b}_{p,:}\\\\\n",
    "\\vec{a}_{2,:}^{T}\\vec{b}_{1,:} & \\vec{a}_{2,:}^{T}\\vec{b}_{2,:} & \\cdots & \\vec{a}_{2,:}^{T}\\vec{b}_{p,:}\\\\\n",
    "\\vdots & \\vdots & \\ddots & \\vdots\\\\\n",
    "\\vec{a}_{m,:}^{T}\\vec{b}_{1,:} & \\vec{a'}_{m}^{T}\\vec{b}_{2,:} & \\cdots & \\vec{a}_{m,:}^{T}\\vec{b}_{p,:}\n",
    "\\end{bmatrix}\n",
    "$$\n"
   ]
  },
  {
   "cell_type": "code",
   "execution_count": 28,
   "metadata": {
    "colab": {
     "base_uri": "https://localhost:8080/",
     "height": 228
    },
    "colab_type": "code",
    "id": "ABhKozT0vwW_",
    "outputId": "dc45f089-090c-4d30-d9e6-27fb82ae2a26"
   },
   "outputs": [
    {
     "name": "stdout",
     "output_type": "stream",
     "text": [
      "matriz A\n",
      "tensor([[1, 2],\n",
      "        [3, 0]])\n",
      "matriz B\n",
      "tensor([[5, 6],\n",
      "        [7, 0]])\n",
      "Dot product\n",
      "tensor(19)\n",
      "C = A B\n",
      "tensor([[19,  6],\n",
      "        [15, 18]])\n"
     ]
    }
   ],
   "source": [
    "#extract one row\n",
    "print(\"matriz A\")\n",
    "print(A)\n",
    "print(\"matriz B\")\n",
    "print(B)\n",
    "\n",
    "a = A[0, :]\n",
    "# extract one column\n",
    "b = B[:, 0]\n",
    "#calculate dot product\n",
    "c = torch.dot(a,b)\n",
    "print(\"Dot product\")\n",
    "print(c)\n",
    "\n",
    "\n",
    "print(\"C = A B\")\n",
    "C = A.mm(B)\n",
    "print(C)"
   ]
  },
  {
   "cell_type": "markdown",
   "metadata": {
    "colab_type": "text",
    "id": "sF3j5QP6JXHN"
   },
   "source": [
    "## External product of vectors\n",
    "For two vectors\n",
    "\n",
    "$\\overrightarrow{x}\\in\\mathbb{R}^{m\\times1}$, $\\overrightarrow{y}\\in\\mathbb{R}^{1\\times n} $ is given by: \n",
    "$$\n",
    "\\vec{x}\\:\\vec{y}^{T}\\in\\mathbb{R}^{m\\times n}=\\begin{bmatrix}x_{1}\\\\\n",
    "x_{2}\\\\\n",
    "\\vdots\\\\\n",
    "x_{m}\n",
    "\\end{bmatrix}\\begin{bmatrix}y_{1} & y_{2} & \\cdots & y_{n}\\end{bmatrix}=\\begin{bmatrix}x_{1}y_{1} & x_{1}y_{2} & \\cdots & x_{1}y_{n}\\\\\n",
    "x_{2}y_{1} & x_{2}y_{2} & \\cdots & x_{2}y_{n}\\\\\n",
    "\\vdots & \\vdots & \\ddots & \\vdots\\\\\n",
    "x_{m}y_{1} & x_{m}y_{2} & \\cdots & x_{m}y_{n}\n",
    "\\end{bmatrix}$$"
   ]
  },
  {
   "cell_type": "code",
   "execution_count": 8,
   "metadata": {},
   "outputs": [
    {
     "name": "stdout",
     "output_type": "stream",
     "text": [
      "C \n",
      "  tensor([[5., 5., 5.],\n",
      "        [2., 2., 2.],\n",
      "        [3., 3., 3.]])\n",
      "C1 \n",
      "  tensor([[5., 5., 5.],\n",
      "        [2., 2., 2.],\n",
      "        [3., 3., 3.],\n",
      "        [5., 5., 5.],\n",
      "        [2., 2., 2.],\n",
      "        [3., 3., 3.]])\n"
     ]
    }
   ],
   "source": [
    "A = torch.tensor([[5.0], [2.0], [3.0]])\n",
    "z = torch.ones(1, 3, dtype = torch.float)\n",
    "C = A.mm(z)\n",
    "print(\"C \\n \", C)\n",
    "\n",
    "#funcion repeat\n",
    "C1 = A.repeat(2, 3)\n",
    "print(\"C1 \\n \", C1)"
   ]
  },
  {
   "cell_type": "code",
   "execution_count": 0,
   "metadata": {
    "colab": {
     "base_uri": "https://localhost:8080/",
     "height": 122
    },
    "colab_type": "code",
    "id": "4RJvNAv-JXHN",
    "outputId": "4d914b0c-ffeb-41ad-d735-3d40d29c0784"
   },
   "outputs": [
    {
     "name": "stdout",
     "output_type": "stream",
     "text": [
      "tensor([[ 5, 10, 15],\n",
      "        [ 6, 12, 18],\n",
      "        [ 7, 14, 21]])\n",
      "External product of the same vector tensor([[1, 2, 3],\n",
      "        [2, 4, 6],\n",
      "        [3, 6, 9]])\n"
     ]
    }
   ],
   "source": [
    "#1x3 vector\n",
    "a = torch.tensor([[1, 2, 3]])\n",
    "#3x1 vector\n",
    "b = torch.tensor([[5], [6], [7]])\n",
    "#3x3 matrix\n",
    "externalProduct = b.mm(a)\n",
    "\n",
    "print(externalProduct)\n",
    "\n",
    "#what happens if a elements are equal to b?\n",
    "b = torch.tensor([[1], [2], [3]])\n",
    "externalProduct2 = b.mm(a)\n",
    "\n",
    "print(\"External product of the same vector\", externalProduct2)\n",
    "\n"
   ]
  },
  {
   "cell_type": "markdown",
   "metadata": {
    "colab_type": "text",
    "id": "WBsZJg1vNrTu"
   },
   "source": [
    "# Matrix-vector product\n",
    "$$\n",
    "\\overrightarrow{y}=A\\,\\overrightarrow{x}=\\begin{bmatrix}| & | & \\ldots & |\\\\\n",
    "\\vec{a}_{:,1} & \\vec{a}_{:,2} & \\ldots & \\vec{a}_{:,n}\\\\\n",
    "| & | & \\ldots & |\n",
    "\\end{bmatrix}\\,\\begin{bmatrix}x_{1}\\\\\n",
    "x_{2}\\\\\n",
    "\\vdots\\\\\n",
    "x_{n}\n",
    "\\end{bmatrix}=\\left[\\vec{a}_{:,1}\\right]x_{1}+\\left[\\vec{a}_{:,2}\\right]x_{2}+\\ldots+\\left[\\vec{a}_{:,n}\\right]x_{n}.\n",
    "$$"
   ]
  },
  {
   "cell_type": "code",
   "execution_count": 0,
   "metadata": {
    "colab": {
     "base_uri": "https://localhost:8080/",
     "height": 52
    },
    "colab_type": "code",
    "id": "IDkSaJ1eObsl",
    "outputId": "ee7abe0f-4d87-4a6d-f1ef-0e25d0f0cb86"
   },
   "outputs": [
    {
     "name": "stdout",
     "output_type": "stream",
     "text": [
      "tensor([[13],\n",
      "        [23]])\n"
     ]
    }
   ],
   "source": [
    "A = torch.tensor([[2, 3], [4, 5]])\n",
    "x = torch.tensor([[2], [3]])\n",
    "#linear combination of A's columns\n",
    "#y = 2 [[2], [4]] + 3 [[3], [5]] = [[13], [23]]\n",
    "y = A.mm(x)\n",
    "print(y)"
   ]
  },
  {
   "cell_type": "markdown",
   "metadata": {
    "colab_type": "text",
    "id": "kefoahanVdwc"
   },
   "source": [
    "For any squared non symmetric matrix $A\\mathbb{\\in R}^{n\\times n}$, we can build a symmetric matrix $A+A^{T}$ \n"
   ]
  },
  {
   "cell_type": "code",
   "execution_count": 0,
   "metadata": {
    "colab": {
     "base_uri": "https://localhost:8080/",
     "height": 120
    },
    "colab_type": "code",
    "id": "GFuq3Pn0WUyJ",
    "outputId": "f52d4e4e-a13d-4489-a42f-2464aa763c55"
   },
   "outputs": [
    {
     "name": "stdout",
     "output_type": "stream",
     "text": [
      "tensor([[3, 7, 5],\n",
      "        [7, 3, 4],\n",
      "        [3, 2, 1]])\n",
      "tensor([[ 6, 14,  8],\n",
      "        [14,  6,  6],\n",
      "        [ 8,  6,  2]])\n"
     ]
    }
   ],
   "source": [
    "AnonSym = torch.tensor([[3, 7, 5], [7, 3, 4], [3, 2, 1]])\n",
    "print(AnonSym)\n",
    "Bsym = AnonSym + AnonSym.transpose(0, 1)\n",
    "print(Bsym)\n",
    "#check if it is symmetric\n",
    "isSymmetric()"
   ]
  },
  {
   "cell_type": "markdown",
   "metadata": {
    "colab_type": "text",
    "id": "X-p3g_SuJXHV"
   },
   "source": [
    "## Matrix Rank\n",
    "Lineally dependent vectors  $\\left\\{ \\vec{x}_{1},\\vec{x}_{2},\\ldots,\\vec{x}_{n}\\right\\} \\subset\\mathbb{R}^{m}$\n",
    "if at least one vector can be written as a lineal combination of any of the rest: \n",
    "$$\n",
    "\\vec{x}_{j}=\\sum_{i=1}^{n-1}\\alpha_{i}\\vec{x}_{i}\n",
    "$$"
   ]
  },
  {
   "cell_type": "code",
   "execution_count": 13,
   "metadata": {},
   "outputs": [
    {
     "name": "stdout",
     "output_type": "stream",
     "text": [
      "rank_A  tensor(3)\n",
      "rank_B  tensor(1)\n"
     ]
    }
   ],
   "source": [
    "import torch \n",
    "\n",
    "A = torch.tensor([[1, 2, 3.0], [4, 5, 6], [7, 1, 2]])\n",
    "#de rango completo o no singular o invertibles\n",
    "rank_A = torch.linalg.matrix_rank(A)\n",
    "print(\"rank_A \", rank_A)\n",
    "# matriz no invertible, singular, o de rango incompleto\n",
    "B = torch.tensor([[1, 2], [2, 4.0]])\n",
    "print(\"rank_B \", torch.linalg.matrix_rank(B))\n"
   ]
  },
  {
   "cell_type": "code",
   "execution_count": 34,
   "metadata": {
    "colab": {
     "base_uri": "https://localhost:8080/",
     "height": 87
    },
    "colab_type": "code",
    "id": "6Qzem_a_JXHW",
    "outputId": "cb9d5acb-438e-410a-e1c4-c84bf0958c31"
   },
   "outputs": [
    {
     "name": "stdout",
     "output_type": "stream",
     "text": [
      "Rango de matriz identidad\n",
      "10\n",
      "Matrix A rank  tensor(1)\n",
      "Matrix B rank  tensor(2)\n"
     ]
    }
   ],
   "source": [
    "import torch\n",
    "import numpy as np\n",
    "\n",
    "#Rank of 10x10 identity matrix\n",
    "Identity = torch.eye(10)\n",
    "MatrixRank = np.linalg.matrix_rank(Identity.numpy())\n",
    "print(\"Rango de matriz identidad\")\n",
    "print(MatrixRank)\n",
    "#squared matrix with linear combination of rows, rank inferior than number of rows and columns\n",
    "A = torch.tensor([[4.0, -5.0], [8.0, -10.0]])\n",
    "matrixRank = torch.linalg.matrix_rank(A)\n",
    "print(\"Matrix A rank \", matrixRank)\n",
    "#squared matrix with independent rows\n",
    "B = torch.tensor([[4.0, 3.0], [-2.0, -4.0]])\n",
    "MatrixRank = torch.linalg.matrix_rank(B)\n",
    "print(\"Matrix B rank \", MatrixRank)\n",
    "\n"
   ]
  },
  {
   "cell_type": "code",
   "execution_count": 44,
   "metadata": {},
   "outputs": [
    {
     "name": "stdout",
     "output_type": "stream",
     "text": [
      "Rango de la matriz  tensor(3)\n",
      "tensor([[ 0.9164, -0.4890,  0.0342],\n",
      "        [ 0.4000, -0.2000,  0.0000],\n",
      "        [-3.4233,  1.8178, -0.0068]])\n",
      "Identity \n",
      " tensor([[ 1.0000e+00,  0.0000e+00,  2.2352e-08],\n",
      "        [-3.8147e-06,  1.0000e+00,  4.4703e-08],\n",
      "        [ 0.0000e+00,  0.0000e+00,  1.0000e+00]])\n"
     ]
    }
   ],
   "source": [
    "B.inverse()\n",
    "A1 = torch.tensor([[1, 43, 5.0], [2, 81, 10.0], [31, 6, 9.0]])\n",
    "matrixRank = torch.linalg.matrix_rank(A1)\n",
    "print(\"Rango de la matriz \", matrixRank)\n",
    "print(A1.inverse())\n",
    "Identity = A1.mm(A1.inverse())\n",
    "print(\"Identity \\n\", Identity)\n"
   ]
  },
  {
   "cell_type": "markdown",
   "metadata": {
    "colab_type": "text",
    "id": "mQo296HIJXHb"
   },
   "source": [
    "## Inverse Matrix\n",
    "The inverse matrix satisfies $A^{-1}A=I=A\\,A^{-1}$ and also\n",
    "$\\left(A\\,B\\right)^{-1}=B^{-1}A^{-1}.$"
   ]
  },
  {
   "cell_type": "code",
   "execution_count": 16,
   "metadata": {},
   "outputs": [
    {
     "name": "stdout",
     "output_type": "stream",
     "text": [
      "A inverse \n",
      " tensor([[ 1.0000e+00,  0.0000e+00, -5.9605e-08],\n",
      "        [ 0.0000e+00,  1.0000e+00, -1.7881e-07],\n",
      "        [ 0.0000e+00,  0.0000e+00,  1.0000e+00]])\n"
     ]
    }
   ],
   "source": [
    "import torch \n",
    "\n",
    "A = torch.tensor([[1, 2, 3.0], [4, 5, 6], [7, 1, 2]])\n",
    "\n",
    "B = torch.tensor([[1, 2], [2, 4.0]])\n",
    "A_inv = A.inverse()\n",
    "print(\"A inverse \\n\", A.mm(A_inv) )"
   ]
  },
  {
   "cell_type": "code",
   "execution_count": 17,
   "metadata": {},
   "outputs": [
    {
     "ename": "RuntimeError",
     "evalue": "inverse_cpu: The diagonal element 2 is zero, the inversion could not be completed because the input matrix is singular.",
     "output_type": "error",
     "traceback": [
      "\u001b[1;31m---------------------------------------------------------------------------\u001b[0m",
      "\u001b[1;31mRuntimeError\u001b[0m                              Traceback (most recent call last)",
      "\u001b[1;32m~\\AppData\\Local\\Temp/ipykernel_25888/624860629.py\u001b[0m in \u001b[0;36m<module>\u001b[1;34m\u001b[0m\n\u001b[1;32m----> 1\u001b[1;33m \u001b[0mB_inv\u001b[0m \u001b[1;33m=\u001b[0m \u001b[0mB\u001b[0m\u001b[1;33m.\u001b[0m\u001b[0minverse\u001b[0m\u001b[1;33m(\u001b[0m\u001b[1;33m)\u001b[0m\u001b[1;33m\u001b[0m\u001b[1;33m\u001b[0m\u001b[0m\n\u001b[0m",
      "\u001b[1;31mRuntimeError\u001b[0m: inverse_cpu: The diagonal element 2 is zero, the inversion could not be completed because the input matrix is singular."
     ]
    }
   ],
   "source": [
    "B_inv = B.inverse()"
   ]
  },
  {
   "cell_type": "code",
   "execution_count": 15,
   "metadata": {
    "colab": {
     "base_uri": "https://localhost:8080/",
     "height": 52
    },
    "colab_type": "code",
    "id": "J4a5VM9DJXHd",
    "outputId": "428d17ea-9dab-48e1-ba35-0f282bdc3dc9"
   },
   "outputs": [
    {
     "name": "stdout",
     "output_type": "stream",
     "text": [
      "Rank of C  2\n",
      "Property check:  tensor(1, dtype=torch.uint8)\n"
     ]
    }
   ],
   "source": [
    "\n",
    "def checkInverseMatrixMultiplicationProperty(A, B):\n",
    "    \"\"\"\n",
    "    Checks matrix inverse multiplication property\n",
    "    A: squared, full rank, non singular, invertible matrix\n",
    "    B: squared, full rank, non singular, invertible matrix\n",
    "    \"\"\"\n",
    "    Ainv = A.inverse()\n",
    "    Binv = B.inverse()\n",
    "    C = A.mm(B)\n",
    "    CinvLeft = C.inverse()\n",
    "    \n",
    "    \n",
    "    multRight = Binv.mm(Ainv)\n",
    "    \n",
    "    #for floating matrices, sum of difference must be small \n",
    "    return torch.abs((CinvLeft - multRight).sum()) < 0.1e-5\n",
    "\n",
    "B = torch.tensor([[4.0, -5.0], [-2.0, 3.0]])\n",
    "C = torch.tensor([[3.0, 5.0], [1.0, 7.0]])\n",
    "#lets verify the rank\n",
    "rankC = np.linalg.matrix_rank(C.numpy())\n",
    "print(\"Rank of C \", rankC)\n",
    "\n",
    "\n",
    "print (\"Property check: \", checkInverseMatrixMultiplicationProperty(B,C))\n",
    "    \n",
    "\n",
    "    \n",
    "    \n",
    "    \n",
    "    "
   ]
  },
  {
   "cell_type": "markdown",
   "metadata": {
    "colab_type": "text",
    "id": "Ax5ISHYHJXHj"
   },
   "source": [
    "## Pseudo inverse matrix\n",
    "The following are very important properties:\n",
    "1. $$ \\left(A^{T}A\\right)^{-1}A^{T}\\approx A^{+} $$\n",
    "\n",
    "2. $$\\left(A^{T}A\\right)^{+}A^{T}=A^{+}$$"
   ]
  },
  {
   "cell_type": "code",
   "execution_count": 19,
   "metadata": {},
   "outputs": [
    {
     "name": "stdout",
     "output_type": "stream",
     "text": [
      "Dpinv \n",
      " tensor([[0.0176, 0.0353],\n",
      "        [0.0294, 0.0588]])\n"
     ]
    }
   ],
   "source": [
    "import numpy as np\n",
    "#Example of non invertible matrix\n",
    "D = torch.tensor([[3.0, 5.0], [6.0, 10.0]])\n",
    "\n",
    "Dpinv = torch.tensor(np.linalg.pinv(D.numpy()))\n",
    "print(\"Dpinv \\n\", Dpinv)\n",
    "Icuasi = D.mm(Dpinv)\n"
   ]
  },
  {
   "cell_type": "code",
   "execution_count": 21,
   "metadata": {},
   "outputs": [
    {
     "name": "stdout",
     "output_type": "stream",
     "text": [
      "Left property 2? \n",
      " tensor([[0.0176, 0.0353],\n",
      "        [0.0294, 0.0588]])\n",
      "Right of property \n",
      " tensor([[0.0176, 0.0353],\n",
      "        [0.0294, 0.0588]])\n"
     ]
    }
   ],
   "source": [
    "\n",
    "Dt = D.transpose(0, 1)\n",
    "Left = torch.tensor(np.linalg.pinv(Dt.mm(D).numpy())).mm(Dt)\n",
    "print(\"Left property 2? \\n\", Left)\n",
    "print(\"Right of property \\n\", Dpinv)"
   ]
  },
  {
   "cell_type": "code",
   "execution_count": 16,
   "metadata": {
    "colab": {
     "base_uri": "https://localhost:8080/",
     "height": 540
    },
    "colab_type": "code",
    "id": "w73iO8yaJXHk",
    "outputId": "996bbe7b-e133-4e64-a9c7-1ba95487dacc"
   },
   "outputs": [
    {
     "name": "stdout",
     "output_type": "stream",
     "text": [
      "C matrix\n",
      "tensor([[3., 5.],\n",
      "        [1., 7.]])\n",
      "Inverted C  tensor([[ 0.4375, -0.3125],\n",
      "        [-0.0625,  0.1875]])\n",
      "Pseudo inverted C tensor([[ 0.4375, -0.3125],\n",
      "        [-0.0625,  0.1875]])\n",
      "C * Cpinv  tensor([[1.0000, 0.0000],\n",
      "        [0.0000, 1.0000]])\n",
      "Dpinv\n",
      "tensor([[0.0176, 0.0353],\n",
      "        [0.0294, 0.0588]])\n",
      "Check second property \n",
      "tensor([[0.0176, 0.0353],\n",
      "        [0.0294, 0.0588]])\n",
      "tensor(1, dtype=torch.uint8)\n",
      "Dinv * D  tensor([[0.2000, 0.4000],\n",
      "        [0.4000, 0.8000]])\n",
      "PINV  tensor([[0.0176, 0.0353],\n",
      "        [0.0294, 0.0588]])\n",
      "Satisfies pseudo inverse property 1:  tensor(1, dtype=torch.uint8)\n",
      "tensor([[0.0176, 0.0353],\n",
      "        [0.0294, 0.0588]])\n",
      "Satisfies pseudo inverse property 2:  tensor(1, dtype=torch.uint8)\n"
     ]
    }
   ],
   "source": [
    "def checkPseudoInverseProperty1(A):\n",
    "    \"\"\"\n",
    "    Check pseudo inverse property 1\n",
    "    \"\"\"\n",
    "    Apinv = torch.tensor(np.linalg.pinv(A.numpy()))\n",
    "    At = A.transpose(0, 1)\n",
    "    left = At.mm(A).inverse().mm(At)\n",
    "    \n",
    "    \n",
    "    return (torch.abs(left - Apinv).sum()) < 0.1e-5\n",
    "  \n",
    "def checkPseudoInverseProperty2(A):\n",
    "    \"\"\"\n",
    "    Check pseudo inverse property 2\n",
    "    Pytorch pinv implementation is not recommended for non invertible matrices\n",
    "    \"\"\"\n",
    "    \n",
    "    #Apinv = A.pinverse()\n",
    "    Apinv = torch.tensor(np.linalg.pinv(A.numpy()))\n",
    "    print(Apinv)\n",
    "    \n",
    "    At = A.transpose(0, 1)\n",
    "    left = torch.tensor(np.linalg.pinv(At.mm(A).numpy())).mm(At)\n",
    "  \n",
    "    \n",
    "    return torch.abs((left - Apinv)).sum() < 0.1e-5\n",
    "    \n",
    "    \n",
    "#pseudo inverse of invertible matrix  \n",
    "print(\"C matrix\")\n",
    "print(C)\n",
    "\n",
    "\n",
    "Cinv = C.inverse()\n",
    "Cpinv = C.pinverse()\n",
    "print(\"Inverted C \", Cinv)\n",
    "print(\"Pseudo inverted C\", Cpinv)\n",
    "\n",
    "I = C.mm(Cpinv)\n",
    "print(\"C * Cpinv \", I)\n",
    "#check pseudo inverse property for invertible matrix\n",
    "checkPseudoInverseProperty1(C)\n",
    "\n",
    "#pseudo inverse of non invertible square matrix\n",
    "D = torch.tensor([[3.0, 5.0], [6.0, 10.0]])\n",
    "Dpinv = torch.tensor(np.linalg.pinv(D.numpy()))\n",
    "\n",
    "print(\"Dpinv\")\n",
    "print(Dpinv)\n",
    "print(\"Check second property \")\n",
    "print(checkPseudoInverseProperty2(D))\n",
    "\n",
    "#D.inverse()\n",
    "#the inverse property is not satisfied\n",
    "I = D.mm(Dpinv)\n",
    "print(\"Dinv * D \", I)\n",
    "print(\"PINV \", Dpinv)\n",
    "#check pseudo inverse property\n",
    "print(\"Satisfies pseudo inverse property 1: \", checkPseudoInverseProperty1(C))\n",
    "result = checkPseudoInverseProperty2(D)\n",
    "print(\"Satisfies pseudo inverse property 2: \", result)\n",
    "\n",
    "\n"
   ]
  },
  {
   "cell_type": "markdown",
   "metadata": {
    "colab_type": "text",
    "id": "-fjSUptw8Pf8"
   },
   "source": [
    "## Vector projection\n",
    "Projection of $\\vec{y}\\in\\mathbb{R}^{n}$ over the vectors generated by the set of base vectors $\\left\\{ \\vec{a}_{1},\\vec{a}_{2},\\ldots,\\vec{a}_{m}\\right\\} \\qquad\\vec{a}_{i}\\in\\mathbb{R}^{n}$\n",
    "$$\n",
    "\\textrm{proy}\\left(\\vec{y};\\left\\{ \\vec{a}_{1},\\vec{a}_{2},\\ldots,\\vec{a}_{m}\\right\\} \\right)=\\textrm{argmin}_{\\vec{v}\\in\\textrm{espacioGenerado}\\left(\\left\\{ \\vec{a}_{1},\\vec{a}_{2},\\ldots,\\vec{a}_{m}\\right\\} \\right)}\\left\\Vert \\vec{v}-\\vec{y}\\right\\Vert _{2}.\n",
    "$$\n",
    "with the generated space given by the column space:\n",
    "$$\n",
    "\\mathcal{C}\\left(A\\right)=\\left\\{ \\vec{v}\\in\\mathbb{R}^{n}:\\vec{v}=A\\,\\vec{x},\\;\\vec{x}\\in\\mathbb{R}^{m},\\:A\\in\\mathbb{R}^{n\\times m}\\right\\} \n",
    "$$\n",
    "\n",
    "with the optimal solution given by:\n",
    "\n",
    "$$\n",
    "\\textrm{proy}\\left(\\vec{y};A\\right)=A\\,\\left(A^{T}A\\right)^{-1}A^{T}\\vec{y}\n",
    "$$\n",
    "\n",
    "\n",
    "### Example 1: Same number of base vectors $m$ and vector dimensionality $n$, lineally independent base vectors\n",
    "Given the independent base vectors  $$\\vec{a}_{1}=\\begin{bmatrix}0.5\\\\\n",
    "0\\\\\n",
    "0\n",
    "\\end{bmatrix}, \\vec{a}_{2}=\\begin{bmatrix}0\\\\\n",
    "0.25\\\\\n",
    "0\n",
    "\\end{bmatrix},  \\vec{a}_{3}=\\begin{bmatrix}0\\\\\n",
    "0\\\\\n",
    "2\n",
    "\\end{bmatrix}$$\n",
    "Calculate the projection vector  $\\textrm{proy}\\left(\\vec{y};A\\right)\\in\\mathbb{R}^{3}$ with $ \\vec{y}=\\begin{bmatrix}1\\\\\n",
    "2\\\\\n",
    "3\n",
    "\\end{bmatrix}$ and evaluate its error"
   ]
  },
  {
   "cell_type": "code",
   "execution_count": 1,
   "metadata": {
    "colab": {
     "base_uri": "https://localhost:8080/",
     "height": 120
    },
    "colab_type": "code",
    "id": "wHQaCG_HJXHo",
    "outputId": "66e63c50-ab81-4661-e63e-661e4690a28d"
   },
   "outputs": [
    {
     "name": "stdout",
     "output_type": "stream",
     "text": [
      "Projected vector: \n",
      "tensor([[1.],\n",
      "        [2.],\n",
      "        [3.]])\n",
      "Projection error: \n",
      "tensor(0.)\n",
      "x: \n",
      " tensor([[2.0000],\n",
      "        [8.0000],\n",
      "        [1.5000]])\n"
     ]
    }
   ],
   "source": [
    "import torch\n",
    "def projectInvertible(y, A): \n",
    "  \"\"\"\n",
    "  y: column vector, 2d tensor\n",
    "  A: n x m matrix, 2d tensor\n",
    "  \"\"\"\n",
    "  At = A.transpose(0, 1)\n",
    "  invMatrix = At.mm(A).inverse()\n",
    "  return A.mm(invMatrix).mm(At).mm(y)\n",
    "\n",
    "def calculateProjectionError(v, y):\n",
    "  \"\"\"\n",
    "  Calcualte projection error by using the euclidian distance\n",
    "  \"\"\"\n",
    "  return torch.norm(v - y, 2)\n",
    "  \n",
    "y = torch.tensor([[1.0], [2.0], [3.0]])\n",
    "A = torch.tensor([[0.5, 0, 0], [0, 0.25, 0], [0, 0, 2]])\n",
    "\n",
    "#calculate the projection\n",
    "projY_A = projectInvertible(y,A)\n",
    "print(\"Projected vector: \")\n",
    "print(projY_A)\n",
    "#calculate its error, which should be zero for invertible A, or lineally independent base vectors\n",
    "print(\"Projection error: \")\n",
    "error = calculateProjectionError(projY_A, y)\n",
    "print(error)\n",
    "#Calculate the array of coefficients x\n",
    "x = A.inverse().mm(projY_A)\n",
    "print(\"x: \\n\", x)"
   ]
  },
  {
   "cell_type": "markdown",
   "metadata": {
    "colab_type": "text",
    "id": "5gZXxBIMEwZe"
   },
   "source": [
    "### Example 2: Same number of base vectors $m$ and vector dimensionality $n$, lineally dependent base vectors\n",
    "$$\n",
    "\\vec{a}_{1}=\\begin{bmatrix}0.5\\\\\n",
    "0\\\\\n",
    "0\n",
    "\\end{bmatrix}, \\vec{a}_{2}=\\begin{bmatrix}1\\\\\n",
    "0\\\\\n",
    "0\n",
    "\\end{bmatrix}  \\vec{a}_{3}=\\begin{bmatrix}0\\\\\n",
    "1\\\\\n",
    "2\n",
    "\\end{bmatrix}\n",
    "$$\n",
    "Calculate the projection vector  $\\textrm{proy}\\left(\\vec{y};A\\right)\\in\\mathbb{R}^{3}$ with $ \\vec{y}=\\begin{bmatrix}1\\\\\n",
    "2\\\\\n",
    "3\n",
    "\\end{bmatrix}$ and evaluate its error"
   ]
  },
  {
   "cell_type": "code",
   "execution_count": 3,
   "metadata": {
    "colab": {
     "base_uri": "https://localhost:8080/",
     "height": 171
    },
    "colab_type": "code",
    "id": "NdtNLGi9FrdH",
    "outputId": "e8037d6e-746b-479a-b8cf-46dd377594f0"
   },
   "outputs": [
    {
     "name": "stdout",
     "output_type": "stream",
     "text": [
      "Projected vector\n",
      "tensor([[1.0000],\n",
      "        [2.0000],\n",
      "        [3.0000]])\n",
      "Projection error: \n",
      "tensor(2.7314e-07)\n"
     ]
    }
   ],
   "source": [
    "import numpy as np\n",
    "def projectNonInvertible(y, A): \n",
    "  \"\"\"\n",
    "  y: column vector, 2d tensor\n",
    "  A: n x m matrix, 2d tensor\n",
    "  \"\"\"\n",
    "  At = A.transpose(0, 1)\n",
    "  pinvMatrix = torch.tensor(np.linalg.pinv(A))\n",
    "  #print(\"pinvMat shape \", pinvMatrix.shape)\n",
    "  #print(\"A shape \", A.shape)\n",
    "  #print(\"y shape, \", y.shape)\n",
    "  return A.mm(pinvMatrix).mm(y)\n",
    "\n",
    "\n",
    "A = torch.tensor([[0.5, 0, 0], [1, 0, 0], [0, 1, 2]])\n",
    "#calculate the projection\n",
    "projY_A = projectNonInvertible(y,A)\n",
    "\n",
    "print(\"Projected vector\")\n",
    "print(projY_A)\n",
    "print(\"Projection error: \")\n",
    "error = calculateProjectionError(projY_A, y)\n",
    "print(error)"
   ]
  },
  {
   "cell_type": "markdown",
   "metadata": {
    "colab_type": "text",
    "id": "bEOxwbMxIutm"
   },
   "source": [
    "### Example 3: More base vectors $m$ than vector dimensionality $n$\n",
    "With the following base vectors $$\\vec{a}_{1}=\\begin{bmatrix}0.5\\\\\n",
    "0\\\\\n",
    "0\n",
    "\\end{bmatrix}, \\vec{a}_{2}=\\begin{bmatrix}0\\\\\n",
    "0.25\\\\\n",
    "3\n",
    "\\end{bmatrix}, \\vec{a}_{3}=\\begin{bmatrix}0\\\\\n",
    "0\\\\\n",
    "2\n",
    "\\end{bmatrix}, \\vec{a}_{4}=\\begin{bmatrix}23\\\\\n",
    "5\\\\\n",
    "3\n",
    "\\end{bmatrix}$$"
   ]
  },
  {
   "cell_type": "code",
   "execution_count": 15,
   "metadata": {
    "colab": {
     "base_uri": "https://localhost:8080/",
     "height": 120
    },
    "colab_type": "code",
    "id": "apqV5hQiJKIC",
    "outputId": "cd9f7e97-2959-4def-c896-22e4f391b625"
   },
   "outputs": [
    {
     "name": "stdout",
     "output_type": "stream",
     "text": [
      "pinvMat shape  torch.Size([4, 3])\n",
      "A shape  torch.Size([3, 4])\n",
      "y shape,  torch.Size([3, 1])\n",
      "Projected vector\n",
      "tensor([[1.0000],\n",
      "        [2.0000],\n",
      "        [3.0000]])\n",
      "Projection error: \n",
      "tensor(5.8400e-07)\n"
     ]
    }
   ],
   "source": [
    "A = torch.tensor([[0.5, 0, 0, 23], [0, 0.25, 0, 5], [0, 3, 2, 3]])\n",
    "#calculate the projection\n",
    "projY_A = projectNonInvertible(y,A)\n",
    "print(\"Projected vector\")\n",
    "print(projY_A)\n",
    "print(\"Projection error: \")\n",
    "error = calculateProjectionError(projY_A, y)\n",
    "print(error)"
   ]
  },
  {
   "cell_type": "markdown",
   "metadata": {
    "colab_type": "text",
    "id": "tbdzzraVNeLb"
   },
   "source": [
    "### Example 4: Less base vectors $m$ than vector dimensionality $n$\n",
    "Given the following base vectors:\n",
    "\n",
    "$$ \\vec{a}_{1}=\\begin{bmatrix}5\\\\\n",
    "7\\\\\n",
    "21\n",
    "\\end{bmatrix},  \\vec{a}_{2}=\\begin{bmatrix}0\\\\\n",
    "13\\\\\n",
    "9\n",
    "\\end{bmatrix}$$"
   ]
  },
  {
   "cell_type": "code",
   "execution_count": 4,
   "metadata": {
    "colab": {
     "base_uri": "https://localhost:8080/",
     "height": 171
    },
    "colab_type": "code",
    "id": "NMUlYjMqN1bJ",
    "outputId": "9f59022a-5e58-4baa-a692-fc71d7841cc7"
   },
   "outputs": [
    {
     "name": "stdout",
     "output_type": "stream",
     "text": [
      "Projected vector\n",
      "tensor([[0.5621],\n",
      "        [1.9062],\n",
      "        [3.1356]])\n",
      "Projection error: \n",
      "tensor(0.4679)\n"
     ]
    }
   ],
   "source": [
    "A = torch.tensor([[5.0, 0.0], [7.0, 13.0], [21.0, 9.0]])\n",
    "#calculate the projection\n",
    "projY_A = projectNonInvertible(y,A)\n",
    "print(\"Projected vector\")\n",
    "print(projY_A)\n",
    "print(\"Projection error: \")\n",
    "error = calculateProjectionError(projY_A, y)\n",
    "print(error)"
   ]
  },
  {
   "cell_type": "markdown",
   "metadata": {},
   "source": [
    "## Example 5: Proyection over a vector \n",
    "Take the following vector to do the projection to: \n",
    "$$ \\vec{a}_{1}=\\begin{bmatrix}5\\\\\n",
    "7\\\\\n",
    "21\n",
    "\\end{bmatrix}$$\n",
    "\n",
    "Using: \n",
    "\n",
    "$$\n",
    "\\textrm{proy}\\left(\\vec{y};\\vec{a}\\right)=\\frac{\\vec{a}\\,\\vec{a}^{T}}{\\vec{a}^{T}\\,\\vec{a}}\\vec{y}\n",
    "$$\n",
    "\n",
    "And \n",
    "$$\n",
    "\\left\\Vert \\textrm{proy}\\left(\\vec{y};\\vec{a_{1}}\\right)\\right\\Vert =\\left|\\frac{\\vec{y}\\cdot\\vec{a_{i}}}{\\left\\Vert \\vec{a_{i}}\\right\\Vert }\\right|=\\left\\Vert \\frac{\\vec{a}_{i}\\,\\vec{a}_{i}^{T}}{\\vec{a}_{i}^{T}\\,\\vec{a}_{i}}\\vec{y}\\right\\Vert \n",
    "$$"
   ]
  },
  {
   "cell_type": "code",
   "execution_count": 6,
   "metadata": {},
   "outputs": [
    {
     "name": "stdout",
     "output_type": "stream",
     "text": [
      "tensor([[1.],\n",
      "        [2.],\n",
      "        [3.]])\n",
      "Result of projected vector\n",
      "tensor([[0.6755, 2.2967, 2.8371]])\n",
      "Projection error:\n",
      "tensor(3.6918)\n"
     ]
    }
   ],
   "source": [
    "a = torch.tensor([[5.0], [17.0], [21.0]])\n",
    "print(y)\n",
    "def project_vector_to_vector_1(y, a):\n",
    "    coef_matrix = a.mm(a.transpose(0,1)) / a.transpose(0,1).mm(a)\n",
    "    #the denominator is just the dot product to itself\n",
    "    projected_vec = coef_matrix.mm(y).transpose(0, 1)    \n",
    "    return projected_vec\n",
    " \n",
    "\n",
    "print(\"Result of projected vector\")\n",
    "vec_proj_1 = project_vector_to_vector_1(y, a)\n",
    "print(vec_proj_1)\n",
    "print(\"Projection error:\")\n",
    "print(calculateProjectionError(vec_proj_1, y))\n",
    "\n",
    "#Excersise, demonstrate such equality"
   ]
  },
  {
   "cell_type": "markdown",
   "metadata": {},
   "source": [
    "## Determinant of a Matrix\n",
    "The determinant of a matrix is computed as follows:"
   ]
  },
  {
   "cell_type": "code",
   "execution_count": 10,
   "metadata": {},
   "outputs": [
    {
     "name": "stdout",
     "output_type": "stream",
     "text": [
      "determinant of matrix A:  tensor(398.0000)\n",
      "tensor([[1., 4., 9.],\n",
      "        [7., 2., 5.],\n",
      "        [6., 8., 3.]])\n",
      "tensor([[ 86.,  66.,  62.],\n",
      "        [ 66.,  84.,  70.],\n",
      "        [ 62.,  70., 115.]])\n"
     ]
    }
   ],
   "source": [
    "import torch\n",
    "A = torch.tensor([[1.0, 4.0, 9.0], [7.0, 2.0, 5.0], [6.0, 8.0, 3.0]])\n",
    "det_A = torch.det(A)\n",
    "print(\"determinant of matrix A: \", det_A)\n",
    "print(A)\n",
    "print(A.transpose(0, 1).mm(A))"
   ]
  },
  {
   "cell_type": "markdown",
   "metadata": {},
   "source": [
    "## Eigenvectors and Eigenvalues\n",
    "The eigenvectors and eigenvalues can be computed in pytorch as follows:\n"
   ]
  },
  {
   "cell_type": "code",
   "execution_count": 3,
   "metadata": {},
   "outputs": [
    {
     "name": "stdout",
     "output_type": "stream",
     "text": [
      "EigenValues:\n",
      "  tensor([[-1.,  0.],\n",
      "        [-2.,  0.]])\n",
      "Eigen_vectors:\n",
      "  tensor([[ 0.7071, -0.4472],\n",
      "        [-0.7071,  0.8944]])\n"
     ]
    }
   ],
   "source": [
    "B = torch.tensor([[0.0, 1.0], [-2.0, -3.0]])\n",
    "Eigen_values, Eigen_vectors = torch.eig(B ,eigenvectors=True)\n",
    "print(\"EigenValues:\\n \", Eigen_values)\n",
    "print(\"Eigen_vectors:\\n \", Eigen_vectors)\n"
   ]
  },
  {
   "cell_type": "code",
   "execution_count": null,
   "metadata": {},
   "outputs": [],
   "source": []
  }
 ],
 "metadata": {
  "accelerator": "GPU",
  "colab": {
   "collapsed_sections": [],
   "name": "matrices.ipynb",
   "provenance": [],
   "version": "0.3.2"
  },
  "kernelspec": {
   "display_name": "Python 3 (ipykernel)",
   "language": "python",
   "name": "python3"
  },
  "language_info": {
   "codemirror_mode": {
    "name": "ipython",
    "version": 3
   },
   "file_extension": ".py",
   "mimetype": "text/x-python",
   "name": "python",
   "nbconvert_exporter": "python",
   "pygments_lexer": "ipython3",
   "version": "3.9.7"
  }
 },
 "nbformat": 4,
 "nbformat_minor": 1
}
