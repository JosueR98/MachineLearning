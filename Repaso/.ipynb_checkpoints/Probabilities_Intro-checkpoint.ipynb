{
 "cells": [
  {
   "cell_type": "markdown",
   "metadata": {},
   "source": [
    "# Generate data with uniform and Gaussian distributions"
   ]
  },
  {
   "cell_type": "code",
   "execution_count": 3,
   "metadata": {},
   "outputs": [
    {
     "data": {
      "image/png": "[encoded data removed]",
      "text/plain": [
       "<Figure size 432x288 with 1 Axes>"
      ]
     },
     "metadata": {
      "needs_background": "light"
     },
     "output_type": "display_data"
    },
    {
     "name": "stdout",
     "output_type": "stream",
     "text": [
      "verify p[x] property\n",
      "Sum values is 1:  tensor(1., dtype=torch.float64)\n",
      "Entropy P_1:  tensor(4.0236, dtype=torch.float64)\n"
     ]
    }
   ],
   "source": [
    "#Generate data with Gaussian distribution\n",
    "import torch\n",
    "import matplotlib.pyplot as plt\n",
    "import numpy as np\n",
    "from scipy.stats import entropy\n",
    "\n",
    "def calculate_entropy(p_x):\n",
    "    eps = 0.000001\n",
    "    p_x += eps\n",
    "    temp = p_x * torch.log2(p_x)\n",
    "    return -1 * temp.sum()\n",
    "    \n",
    "\n",
    "def plot_bar(bins, histogram):\n",
    "    fig = plt.figure()\n",
    "    axes = fig.add_axes([0, 0, 1, 1])\n",
    "    axes.bar(bins[1:].tolist(), histogram.tolist())\n",
    "    plt.show()\n",
    "n = 20\n",
    "#create gaussian noise values\n",
    "normal_dist = torch.distributions.Normal(torch.tensor([10.0]), torch.tensor([2.6]))\n",
    "gaussian_sample = normal_dist.sample((n,1)).squeeze()\n",
    "#print(gaussian_sample)\n",
    "#calculate histogram\n",
    "histogram, bins = np.histogram(gaussian_sample.numpy(), bins = 100, range = (0, 20))\n",
    "p_1 = torch.tensor(histogram / histogram.sum())\n",
    "#plot histogram\n",
    "plot_bar(bins, p_1.numpy())\n",
    "print(\"verify p[x] property\")\n",
    "print(\"Sum values is 1: \", p_1.sum())\n",
    "\n",
    "ent_p1 = calculate_entropy(p_1)\n",
    "#ent2 = entropy([0.5, 0.5], base=2)\n",
    "print(\"Entropy P_1: \", ent_p1)\n",
    "\n"
   ]
  },
  {
   "cell_type": "code",
   "execution_count": 13,
   "metadata": {},
   "outputs": [
    {
     "name": "stdout",
     "output_type": "stream",
     "text": [
      "Expectation definition E[X]:  tensor(10.0166, dtype=torch.float64)\n",
      "Sample mean  tensor(10.1386)\n"
     ]
    }
   ],
   "source": [
    "#expectation\n",
    "#expectation definition\n",
    "x_times_p_x = p_1 * bins[0:-1]\n",
    "expectation = x_times_p_x.sum()\n",
    "print(\"Expectation definition E[X]: \", expectation)\n",
    "#sample mean\n",
    "sample_mean = torch.mean(gaussian_sample)\n",
    "print(\"Sample mean \", sample_mean)\n"
   ]
  },
  {
   "cell_type": "code",
   "execution_count": null,
   "metadata": {},
   "outputs": [],
   "source": [
    "#Uniform distribution\n",
    "uniform_sample = 20 * torch.rand(1000)\n",
    "histogram2, bins2 = np.histogram(uniform_sample.numpy(), bins = 10, range = (0, 20))\n",
    "p_2 = torch.tensor(histogram2 / histogram2.sum())\n",
    "plot_bar(bins2, p_2.numpy())\n",
    "ent_p2 = calculate_entropy(p_2)\n",
    "print(\"Entropy P_2: \", ent_p2)"
   ]
  },
  {
   "cell_type": "markdown",
   "metadata": {},
   "source": [
    "# Generate noisy data with linear correlation"
   ]
  },
  {
   "cell_type": "code",
   "execution_count": 2,
   "metadata": {},
   "outputs": [],
   "source": [
    "import numpy as np\n",
    "import torch\n",
    "import matplotlib.pyplot as plt\n",
    "\n"
   ]
  },
  {
   "cell_type": "markdown",
   "metadata": {},
   "source": [
    "## Gaussian noise signal contamination"
   ]
  },
  {
   "cell_type": "code",
   "execution_count": 19,
   "metadata": {},
   "outputs": [
    {
     "name": "stdout",
     "output_type": "stream",
     "text": [
      "tensor([1.0000, 1.5000, 2.0000, 2.5000, 3.0000, 3.5000, 4.0000, 4.5000, 5.0000,\n",
      "        5.5000, 6.0000, 6.5000, 7.0000, 7.5000, 8.0000, 8.5000, 9.0000, 9.5000])\n"
     ]
    }
   ],
   "source": [
    "#create x values\n",
    "x_torch = torch.arange(1, 10, 0.5)\n",
    "print(x_torch)"
   ]
  },
  {
   "cell_type": "code",
   "execution_count": 27,
   "metadata": {},
   "outputs": [
    {
     "name": "stdout",
     "output_type": "stream",
     "text": [
      "Datos con distribucion gaussiana\n",
      "tensor([ -3.5654, -18.2840,  12.2480,  -0.8768,   9.4286,  -8.0405,  -7.9726,\n",
      "         11.3706,  -6.2527, -11.3123,  -1.4864,  -3.6100,   4.7296,  -9.6141,\n",
      "         -6.4992, -11.9076,  -2.0198,   6.2154])\n",
      "torch.Size([18])\n",
      "torch.Size([18])\n",
      "torch.Size([18])\n"
     ]
    }
   ],
   "source": [
    "#create y values\n",
    "#create gaussian noise values\n",
    "normal_dist = torch.distributions.Normal(torch.tensor([0.0]), torch.tensor([9.0]))\n",
    "epsilon_gaussian = normal_dist.sample(x_torch.shape).squeeze()\n",
    "\n",
    "print(\"Datos con distribucion gaussiana\")\n",
    "print(epsilon_gaussian)\n",
    "\n",
    "#include gaussian noise values\n",
    "y_torch = 2.1 * x_torch + epsilon_gaussian\n",
    "print(epsilon_gaussian.shape)\n",
    "print(y_torch.shape)\n",
    "print(x_torch.shape)"
   ]
  },
  {
   "cell_type": "markdown",
   "metadata": {},
   "source": [
    "## Scatter plot"
   ]
  },
  {
   "cell_type": "code",
   "execution_count": 28,
   "metadata": {},
   "outputs": [
    {
     "data": {
      "image/png": "[encoded data removed]",
      "text/plain": [
       "<Figure size 432x288 with 1 Axes>"
      ]
     },
     "metadata": {},
     "output_type": "display_data"
    }
   ],
   "source": [
    "# Plot\n",
    "plt.scatter(x_torch, y_torch)\n",
    "plt.title('Plotting correlation between x and y')\n",
    "plt.xlabel('x')\n",
    "plt.ylabel('y')\n",
    "plt.show()"
   ]
  },
  {
   "cell_type": "markdown",
   "metadata": {},
   "source": [
    "## Evaluate the distance between two distributions\n",
    "We can evaluate the Gaussian distribution analytically"
   ]
  },
  {
   "cell_type": "code",
   "execution_count": 45,
   "metadata": {},
   "outputs": [
    {
     "name": "stdout",
     "output_type": "stream",
     "text": [
      "Gauss value  tensor(0.3989)\n"
     ]
    },
    {
     "data": {
      "image/png": "[encoded data removed]",
      "text/plain": [
       "<Figure size 432x288 with 1 Axes>"
      ]
     },
     "metadata": {
      "needs_background": "light"
     },
     "output_type": "display_data"
    },
    {
     "name": "stdout",
     "output_type": "stream",
     "text": [
      "value evaluated : 5.0\n",
      "Gauss value hist  tensor(0.0089, dtype=torch.float64)\n",
      "torch sum  tensor(1., dtype=torch.float64)\n"
     ]
    }
   ],
   "source": [
    "import torch\n",
    "import matplotlib.pyplot as plt\n",
    "import numpy as np\n",
    "from scipy.stats import entropy\n",
    "torch.pi = torch.tensor(np.pi)\n",
    "\"\"\"\n",
    "Evaluate the gaussian function analytically 2d\n",
    "\"\"\"\n",
    "def evaluate_gaussian_2d(mu_array, Sigma, x_array):\n",
    "    num_dimensions = mu_array.shape[0]\n",
    "    print(\"num dimensions \", num_dimensions)\n",
    "    determinant_Sigma = torch.det(Sigma)\n",
    "    #normalization factor\n",
    "    norm_factor =  1 / torch.sqrt((2 * torch.pi)** num_dimensions)\n",
    "    #cuadratic form exponent\n",
    "    cuadratic_form = (x_array - mu_array).transpose(0, 1).mm(Sigma.inverse()).mm(x_array - mu_array)\n",
    "    #final value\n",
    "    gauss_result = norm_factor * torch.exp(-0.5*cuadratic_form)\n",
    "    return gauss_result\n",
    "\n",
    "\n",
    "def evaluate_gaussian_1d_hist(mu, sigma):\n",
    "    n = 1000000\n",
    "    #create gaussian noise values\n",
    "    normal_dist = torch.distributions.Normal(torch.tensor([mu]), torch.tensor([sigma]))\n",
    "    gaussian_sample = normal_dist.sample((n,1)).squeeze()\n",
    "    #print(gaussian_sample)\n",
    "    #calculate histogram\n",
    "    histogram, bins = np.histogram(gaussian_sample.numpy(), bins = 100, range = (0, 20))\n",
    "    p_density = torch.tensor(histogram / histogram.sum())\n",
    "    return (bins, p_density)\n",
    "\n",
    "\"\"\"\n",
    "Evaluate the gaussian function analytically 1d\n",
    "\"\"\"\n",
    "def evaluate_gaussian_1d(mu, sigma, x):\n",
    "    #normalization coefficient\n",
    "    norm_coefficient = 1 / (sigma * torch.sqrt(2 * torch.pi ))\n",
    "    \n",
    "    #exponent\n",
    "    exponent = -0.5 * (((x - mu) / sigma) ** 2 )\n",
    "    #final value\n",
    "    gauss_result = norm_coefficient * torch.exp(torch.tensor(exponent))\n",
    "    return gauss_result\n",
    "\n",
    "def test_2d_evaluation():\n",
    "    #always arrays 2D tensors\n",
    "    #value to evaluate\n",
    "    x_array = torch.tensor([[0.9], [3.0]])\n",
    "    #mu of the gauss function\n",
    "    mu_array = torch.tensor([[2.0], [3.0]])\n",
    "    #Covariance matrix of the gaussian function\n",
    "    Sigma = torch.tensor([[2.0, 0], [0, 3.0]])\n",
    "    gauss_result = evaluate_gaussian_2d(mu_array, Sigma, x_array)\n",
    "    print(gauss_result)\n",
    "\n",
    "def test_1d_evaluation():\n",
    "    mu = 3.0\n",
    "    sigma = 1.0\n",
    "    x = 3\n",
    "    gauss_value = evaluate_gaussian_1d(mu, sigma, x)\n",
    "    print(\"Gauss value \", gauss_value)\n",
    "    #with histogram for array evaluation\n",
    "    (bins, gauss_array) = evaluate_gaussian_1d_hist(mu, sigma)\n",
    "    plot_bar(bins, gauss_array.numpy())\n",
    "    print(\"value evaluated :\", bins[25])\n",
    "    print(\"Gauss value hist \", gauss_array[25])\n",
    "    print(\"torch sum \", gauss_array.sum())\n",
    "\n",
    "    \n",
    "    \n",
    "    \n",
    "test_1d_evaluation()\n",
    "\n",
    "#1d evaluation\n",
    "    "
   ]
  },
  {
   "cell_type": "code",
   "execution_count": 65,
   "metadata": {},
   "outputs": [
    {
     "name": "stdout",
     "output_type": "stream",
     "text": [
      "First distribution\n"
     ]
    },
    {
     "data": {
      "image/png": "[encoded data removed]",
      "text/plain": [
       "<Figure size 432x288 with 1 Axes>"
      ]
     },
     "metadata": {
      "needs_background": "light"
     },
     "output_type": "display_data"
    },
    {
     "name": "stdout",
     "output_type": "stream",
     "text": [
      "Second distribution\n"
     ]
    },
    {
     "data": {
      "image/png": "[encoded data removed]",
      "text/plain": [
       "<Figure size 432x288 with 1 Axes>"
      ]
     },
     "metadata": {
      "needs_background": "light"
     },
     "output_type": "display_data"
    },
    {
     "name": "stdout",
     "output_type": "stream",
     "text": [
      "ce_result  tensor(3.0340, dtype=torch.float64)\n",
      "hellinger distance  tensor(0.0003, dtype=torch.float64)\n"
     ]
    }
   ],
   "source": [
    "\"\"\"\n",
    "Calculate cross entropy\n",
    "\"\"\"\n",
    "def calculate_cross_entropy(p, y):\n",
    "    eps = 0.00001\n",
    "    y_log = -torch.log(y + eps)\n",
    "    ce_result = torch.sum(p * y_log)\n",
    "    return ce_result\n",
    "\n",
    "def calculate_bhattacharyya_distance(p, y):\n",
    "    eps = 0.00001\n",
    "    p += eps\n",
    "    y += eps\n",
    "    bhattacharyya_dist = -torch.log(torch.sum(torch.sqrt(p * y)))\n",
    "    return bhattacharyya_dist\n",
    "\n",
    "def test_1_near():\n",
    "    #first distribution\n",
    "    (bins_1, gauss_array_1) = evaluate_gaussian_1d_hist(5.0, 1.0)\n",
    "    print(\"First distribution\")\n",
    "    plot_bar(bins_1, gauss_array_1.numpy())\n",
    "    #second distribution\n",
    "    (bins_2, gauss_array_2) = evaluate_gaussian_1d_hist(5.1, 1.0)\n",
    "    print(\"Second distribution\")\n",
    "    plot_bar(bins_2, gauss_array_2.numpy())\n",
    "    #calculate cross entropy\n",
    "    ce_result = calculate_cross_entropy(gauss_array_1, gauss_array_2)\n",
    "    print(\"ce_result \", ce_result)\n",
    "    #calculate hellinger distance\n",
    "    hellinger_dist = calculate_bhattacharyya_distance(gauss_array_1, gauss_array_2)\n",
    "    print(\"Bhattarchayya distance \", hellinger_dist)\n",
    "    \n",
    "    \n",
    "test_1_near()\n",
    "\n",
    "    \n"
   ]
  },
  {
   "cell_type": "code",
   "execution_count": null,
   "metadata": {},
   "outputs": [],
   "source": []
  }
 ],
 "metadata": {
  "kernelspec": {
   "display_name": "Python 3 (ipykernel)",
   "language": "python",
   "name": "python3"
  },
  "language_info": {
   "codemirror_mode": {
    "name": "ipython",
    "version": 3
   },
   "file_extension": ".py",
   "mimetype": "text/x-python",
   "name": "python",
   "nbconvert_exporter": "python",
   "pygments_lexer": "ipython3",
   "version": "3.9.7"
  }
 },
 "nbformat": 4,
 "nbformat_minor": 4
}
