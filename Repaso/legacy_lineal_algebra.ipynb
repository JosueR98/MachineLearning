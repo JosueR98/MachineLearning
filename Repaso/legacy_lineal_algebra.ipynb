{
 "cells": [
  {
   "cell_type": "markdown",
   "metadata": {
    "colab_type": "text",
    "id": "jYQE37rOc539"
   },
   "source": [
    "# Linear Algebra on Pytorch \n",
    "\n",
    "-Instructor: M.Sc.Saul Calderon.\n",
    "\n",
    "- Authors: \n",
    "    - Saúl Calderón, Mauro Méndez, Manuel Zumbado. "
   ]
  },
  {
   "cell_type": "markdown",
   "metadata": {
    "colab_type": "text",
    "id": "3uCtcT9FFQ_X"
   },
   "source": [
    "## Install Dependencies"
   ]
  },
  {
   "cell_type": "code",
   "execution_count": null,
   "metadata": {
    "colab": {
     "base_uri": "https://localhost:8080/",
     "height": 34
    },
    "colab_type": "code",
    "id": "yqk8N_AeFRFX",
    "outputId": "369e81ca-e3b3-4d4f-b244-fa8ee72bfc8b"
   },
   "outputs": [
    {
     "name": "stdout",
     "output_type": "stream",
     "text": [
      "Requirement already satisfied: torch in /usr/local/lib/python3.6/dist-packages (1.0.0)\n"
     ]
    }
   ],
   "source": [
    "# Since Collab is being used, it is necessary to install Pytorch\n",
    "!pip install torch"
   ]
  },
  {
   "cell_type": "markdown",
   "metadata": {},
   "source": [
    "## Sum, substraction, element wise division and multiplication of vectors"
   ]
  },
  {
   "cell_type": "code",
   "execution_count": 9,
   "metadata": {},
   "outputs": [
    {
     "name": "stdout",
     "output_type": "stream",
     "text": [
      "a tensor([-5.,  7.])\n",
      "type tensor torch.float32\n",
      "sum:  tensor([-3.,  8.])\n",
      "subs:  tensor([-7.,  6.])\n",
      "elem. wise div.:  tensor([-2.5000,  7.0000])\n",
      "elem. wise mult.:  tensor([-10.,   7.])\n",
      "tensor([5., 7.])\n",
      "concatenated vec:  tensor([-5.,  7.,  2.,  1.])\n"
     ]
    }
   ],
   "source": [
    "import torch as torch\n",
    "\n",
    "device = torch.device(\"cpu\") \n",
    "# device = torch.device(\"cuda:0\")\n",
    "#torch.long and torch.float are the main tensor types\n",
    "a = torch.tensor([-5, 7], dtype = torch.float)\n",
    "b = torch.tensor([2, 1], dtype = torch.float)\n",
    "print(\"a\", a)\n",
    "print(\"type tensor\", a.dtype)\n",
    "#sum of vectors\n",
    "c = a + b\n",
    "print(\"sum: \", c)\n",
    "#substraction of vectors\n",
    "d = a - b\n",
    "print(\"subs: \", d)\n",
    "#element wise division of vectors\n",
    "e = a / b\n",
    "print(\"elem. wise div.: \", e)\n",
    "#element wise multiplication of vectors\n",
    "f = a * b\n",
    "print(\"elem. wise mult.: \", f)\n",
    "#abs of vector\n",
    "g = torch.abs(a)\n",
    "print(g)\n",
    "#concat vectors\n",
    "vec_cat = torch.cat((a, b), dim = 0)\n",
    "print(\"concatenated vec: \", vec_cat)\n"
   ]
  },
  {
   "cell_type": "markdown",
   "metadata": {
    "colab_type": "text",
    "id": "LDRQBcuic54b"
   },
   "source": [
    "## Dot product\n",
    "\n",
    "The dot product between to matrices A and B, and vectors w and v, is calculated as follows:"
   ]
  },
  {
   "cell_type": "code",
   "execution_count": 2,
   "metadata": {
    "colab": {
     "base_uri": "https://localhost:8080/",
     "height": 173
    },
    "colab_type": "code",
    "id": "pCyH9GOCvxBk",
    "outputId": "19688dd2-3d4a-419f-a145-b5fb6719cbe1"
   },
   "outputs": [
    {
     "name": "stdout",
     "output_type": "stream",
     "text": [
      "a tensor([2., 3.])\n",
      "type tensor torch.float32\n",
      "torch.Size([3])\n",
      "Dot product:  38.0\n",
      "A tensor([[1, 2, 3],\n",
      "        [1, 2, 3]])\n",
      "B tensor([[5, 5],\n",
      "        [6, 6],\n",
      "        [7, 7]])\n"
     ]
    }
   ],
   "source": [
    "import torch as torch\n",
    "\n",
    "device = torch.device(\"cpu\") \n",
    "# device = torch.device(\"cuda:0\")\n",
    "\n",
    "a = torch.tensor([2,3], dtype = torch.float)\n",
    "print(\"a\", a)\n",
    "print(\"type tensor\", a.dtype)\n",
    "\n",
    "w = torch.tensor([1.0, 2.0, 3.0], device = device)\n",
    "v = torch.tensor([5.0, 6.0, 7.0], device = device)\n",
    "#to get tensor dimensions, we use shape\n",
    "print(w.shape)\n",
    "#Dot product\n",
    "dotProduct = w.dot(v)\n",
    "print(\"Dot product: \", dotProduct.item())\n",
    "# Dot product of matrices\n",
    "A = torch.tensor([[1, 2, 3],[1, 2, 3]])\n",
    "B = torch.tensor([[5, 5],[6, 6],[7, 7]])\n",
    "#dotProduct = A.dot(B) it doesnt work\n",
    "#print(\"Dot product: \", dotProduct)\n",
    "\n",
    "print(\"A\", A)\n",
    "\n",
    "print(\"B\", B)\n",
    "\n",
    "\n"
   ]
  },
  {
   "cell_type": "markdown",
   "metadata": {
    "colab_type": "text",
    "id": "2LuIU2gKc54q"
   },
   "source": [
    "## Matrix multiplication\n",
    "\n",
    "Matrix multiplication C = A B can be interpreted as a dot product of the rows in A and the columns in B\n",
    "\n",
    "\n"
   ]
  },
  {
   "cell_type": "code",
   "execution_count": 3,
   "metadata": {
    "colab": {
     "base_uri": "https://localhost:8080/",
     "height": 51
    },
    "colab_type": "code",
    "id": "ABhKozT0vwW_",
    "outputId": "f865610a-979f-4eab-e7fe-70c7d1072dd1"
   },
   "outputs": [
    {
     "name": "stdout",
     "output_type": "stream",
     "text": [
      "tensor([[38, 38],\n",
      "        [38, 38]])\n"
     ]
    }
   ],
   "source": [
    "C = A.mm(B)\n",
    "print(C)"
   ]
  },
  {
   "cell_type": "markdown",
   "metadata": {
    "colab_type": "text",
    "id": "W26r-trbc540"
   },
   "source": [
    "## Element wise multiplication of matrices\n",
    "\n",
    "The element wise multiplication of matrices A and B result in a matrix C with same dimensions, and multiplies its entries.\n"
   ]
  },
  {
   "cell_type": "code",
   "execution_count": null,
   "metadata": {
    "colab": {
     "base_uri": "https://localhost:8080/",
     "height": 68
    },
    "colab_type": "code",
    "id": "3m3ZPiEhkkmm",
    "outputId": "83be0b8d-0a14-47d8-9969-7e568df00f6b"
   },
   "outputs": [
    {
     "name": "stdout",
     "output_type": "stream",
     "text": [
      "tensor([[ 5, 12],\n",
      "        [21,  0]])\n",
      "Dot product:  tensor(38)\n"
     ]
    }
   ],
   "source": [
    "A = torch.tensor([[1, 2], [3, 0]])\n",
    "B = torch.tensor([[5, 6], [7, 0]])\n",
    "C = A * B\n",
    "print(C)\n",
    "#Element wise multiplication allows us to calculate dot product of matrices\n",
    "#dot produt of matrices A and B\n",
    "dotProduct = C.sum()\n",
    "print(\"Dot product: \", dotProduct)"
   ]
  },
  {
   "cell_type": "markdown",
   "metadata": {
    "colab_type": "text",
    "id": "sk75GMga4aLw"
   },
   "source": [
    "## Auto grad in Pytorch"
   ]
  },
  {
   "cell_type": "code",
   "execution_count": null,
   "metadata": {
    "colab": {},
    "colab_type": "code",
    "id": "qNs5PaEJ4aLx",
    "outputId": "e96b84dc-3dbf-4a21-b6b2-75d206a7fd84"
   },
   "outputs": [
    {
     "name": "stdout",
     "output_type": "stream",
     "text": [
      "Gradient  tensor([6.])\n"
     ]
    }
   ],
   "source": [
    "import torch\n",
    "#x = Variable(torch.tensor[1.0], requires_grad=True); \n",
    "x = torch.tensor([1.0], requires_grad=True)\n",
    "y = 3*x**2\n",
    "y.backward()\n",
    "print(\"Gradient \", x.grad)"
   ]
  },
  {
   "cell_type": "code",
   "execution_count": null,
   "metadata": {
    "colab": {},
    "colab_type": "code",
    "id": "B0fU-mq54aLz"
   },
   "outputs": [],
   "source": []
  }
 ],
 "metadata": {
  "colab": {
   "collapsed_sections": [],
   "name": "BasicsLinearAlgebra.ipynb",
   "provenance": []
  },
  "kernelspec": {
   "display_name": "Python 3 (ipykernel)",
   "language": "python",
   "name": "python3"
  },
  "language_info": {
   "codemirror_mode": {
    "name": "ipython",
    "version": 3
   },
   "file_extension": ".py",
   "mimetype": "text/x-python",
   "name": "python",
   "nbconvert_exporter": "python",
   "pygments_lexer": "ipython3",
   "version": "3.9.7"
  }
 },
 "nbformat": 4,
 "nbformat_minor": 1
}
